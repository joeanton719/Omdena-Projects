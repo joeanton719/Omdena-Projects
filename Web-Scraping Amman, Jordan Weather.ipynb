{
 "cells": [
  {
   "cell_type": "code",
   "execution_count": 1,
   "id": "ba7f31a9",
   "metadata": {},
   "outputs": [],
   "source": [
    "import datetime\n",
    "\n",
    "import pandas as pd\n",
    "import numpy as np\n",
    "\n",
    "import asyncio\n",
    "import requests_html\n",
    "from requests.adapters import HTTPAdapter, Retry\n",
    "from requests.exceptions import MissingSchema\n",
    "from requests_html import AsyncHTMLSession\n",
    "from urllib3.exceptions import MaxRetryError\n",
    "\n",
    "from tqdm.auto import tqdm"
   ]
  },
  {
   "cell_type": "markdown",
   "id": "b994ed53",
   "metadata": {},
   "source": [
    "temperature - Temperature (°C)\n",
    "\n",
    "dew_point - Dew Point (°C)\n",
    "\n",
    "heat_index - Heat Index (°C)\n",
    "\n",
    "humidity - Humidity (%)\n",
    "\n",
    "pressure - Pressure (hPa)\n",
    "\n",
    "visibility - Visibility (m)\n",
    "\n",
    "gust - Gust (km/h)\n",
    "\n",
    "wind_speed - Wind Speed (km/h)\n",
    "\n",
    "precipitation - Precipitation (mm)\n",
    "\n",
    "uv_index - UV Index"
   ]
  },
  {
   "cell_type": "code",
   "execution_count": 2,
   "id": "5251288e",
   "metadata": {},
   "outputs": [],
   "source": [
    "async def getResponse(date_chunk):\n",
    "    \n",
    "    pages = (requestHeaders(weather_date=date) for date in date_chunk)\n",
    "    return await asyncio.gather(*pages)\n",
    "\n",
    "async def requestHeaders(weather_date):\n",
    "    asession = AsyncHTMLSession()\n",
    "    \n",
    "    headers = {\n",
    "        'authority': 'api.weather.com',\n",
    "        'accept': 'application/json, text/plain, */*',\n",
    "        'accept-language': 'en-GB,en;q=0.5',\n",
    "        'origin': 'https://www.wunderground.com',\n",
    "        'referer': 'https://www.wunderground.com/',\n",
    "        'sec-fetch-dest': 'empty',\n",
    "        'sec-fetch-mode': 'cors',\n",
    "        'sec-fetch-site': 'cross-site',\n",
    "        'sec-gpc': '1',\n",
    "        'user-agent': 'Mozilla/5.0 (Windows NT 10.0; Win64; x64) AppleWebKit/537.36 (KHTML, like Gecko) Chrome/108.0.0.0 Safari/537.36',\n",
    "    }\n",
    "    \n",
    "    params = {\n",
    "        'apiKey': 'e1f10a1e78da46f5b10a1e78da96f525',\n",
    "        'units': 'm',\n",
    "        'startDate': weather_date,\n",
    "    }\n",
    "\n",
    "    retries = Retry(total=10, backoff_factor=0.05, status_forcelist=[500, 502, 503, 504, 524])\n",
    "    adapter = HTTPAdapter(max_retries=retries)\n",
    "\n",
    "    asession.mount(\"https://\", adapter)\n",
    "    asession.mount(\"http://\", adapter)\n",
    "\n",
    "    try:\n",
    "        resp = await asession.get(\n",
    "            'https://api.weather.com/v1/location/OJAM:9:JO/observations/historical.json', \n",
    "            params=params,\n",
    "            headers=headers\n",
    "        )\n",
    "        \n",
    "        return parse_data(resp=resp.json())\n",
    "\n",
    "    except (MaxRetryError, requests_html.requests.exceptions.RetryError, MissingSchema) as e:              \n",
    "        return \"Response Error\"\n",
    "    \n",
    "######################################################################################################\n",
    "def parse_data(resp):\n",
    "\n",
    "    rows = resp['observations']\n",
    "\n",
    "    hr_weather_data = []\n",
    "\n",
    "    for row in rows:\n",
    "        hr_weather_data.append({\n",
    "            #https://stackoverflow.com/questions/12400256/converting-epoch-time-into-the-datetime\n",
    "            'date' : datetime.datetime.fromtimestamp(row['valid_time_gmt']).strftime('%Y-%m-%d %H:%M:%S'),\n",
    "            'temperature' : row['temp'],\n",
    "            'weather_condition' : row['wx_phrase'],\n",
    "            'dew_point' : row['dewPt'],\n",
    "            'heat_index' : row['heat_index'],\n",
    "            'humidity' : row['rh'],\n",
    "            'pressure' : row['pressure'],\n",
    "            'visibility' : row['vis'],\n",
    "            'wind_condition' : row['wdir_cardinal'],\n",
    "            'gust' : row['gust'],\n",
    "            'wind_speed' : row['wspd'],\n",
    "            'precipitation' : row['precip_total'],\n",
    "            'uv_desc' : row['uv_desc'],\n",
    "            'uv_index' : row['uv_index'],\n",
    "            'clouds_condition' : row['clds']\n",
    "        })\n",
    "\n",
    "    return pd.DataFrame(hr_weather_data)"
   ]
  },
  {
   "cell_type": "code",
   "execution_count": 3,
   "id": "e083cd47",
   "metadata": {},
   "outputs": [
    {
     "data": {
      "application/vnd.jupyter.widget-view+json": {
       "model_id": "2473918840fd4dc18beffa20c115594a",
       "version_major": 2,
       "version_minor": 0
      },
      "text/plain": [
       "  0%|          | 0/30 [00:00<?, ?it/s]"
      ]
     },
     "metadata": {},
     "output_type": "display_data"
    },
    {
     "name": "stdout",
     "output_type": "stream",
     "text": [
      "1: Requesting weather data from 20140101 to 20140408\n",
      "2: Requesting weather data from 20140409 to 20140715\n",
      "3: Requesting weather data from 20140716 to 20141021\n",
      "4: Requesting weather data from 20141022 to 20150127\n",
      "5: Requesting weather data from 20150128 to 20150505\n",
      "6: Requesting weather data from 20150506 to 20150811\n",
      "7: Requesting weather data from 20150812 to 20151117\n",
      "8: Requesting weather data from 20151118 to 20160223\n",
      "9: Requesting weather data from 20160224 to 20160531\n",
      "10: Requesting weather data from 20160601 to 20160906\n",
      "11: Requesting weather data from 20160907 to 20161213\n",
      "12: Requesting weather data from 20161214 to 20170321\n",
      "13: Requesting weather data from 20170322 to 20170626\n",
      "14: Requesting weather data from 20170627 to 20171001\n",
      "15: Requesting weather data from 20171002 to 20180106\n",
      "16: Requesting weather data from 20180107 to 20180413\n",
      "17: Requesting weather data from 20180414 to 20180719\n",
      "18: Requesting weather data from 20180720 to 20181024\n",
      "19: Requesting weather data from 20181025 to 20190129\n",
      "20: Requesting weather data from 20190130 to 20190506\n",
      "21: Requesting weather data from 20190507 to 20190811\n",
      "22: Requesting weather data from 20190812 to 20191116\n",
      "23: Requesting weather data from 20191117 to 20200221\n",
      "24: Requesting weather data from 20200222 to 20200528\n",
      "25: Requesting weather data from 20200529 to 20200902\n",
      "26: Requesting weather data from 20200903 to 20201208\n",
      "27: Requesting weather data from 20201209 to 20210315\n",
      "28: Requesting weather data from 20210316 to 20210620\n",
      "29: Requesting weather data from 20210621 to 20210925\n",
      "30: Requesting weather data from 20210926 to 20211231\n"
     ]
    }
   ],
   "source": [
    "starting_from = '2014-01-01'\n",
    "ending_till = '2021-12-31'\n",
    "\n",
    "all_dates = pd.date_range(starting_from, ending_till, freq = '1d').strftime('%Y%m%d')\n",
    "\n",
    "chunks = np.round(len(all_dates)/100) + 1\n",
    "date_chunks = np.array_split(all_dates, chunks)\n",
    "\n",
    "daily_data = []\n",
    "        \n",
    "count = 1\n",
    "for chunk in tqdm(date_chunks):\n",
    "    print(f\"{count}: Requesting weather data from {chunk[0]} to {chunk[-1]}\")\n",
    "    resp = await getResponse(date_chunk=chunk)\n",
    "    daily_data.extend(resp)\n",
    "    count += 1"
   ]
  },
  {
   "cell_type": "code",
   "execution_count": 4,
   "id": "e004274d",
   "metadata": {},
   "outputs": [],
   "source": [
    "weather_df = pd.concat(daily_data, ignore_index = True)"
   ]
  },
  {
   "cell_type": "code",
   "execution_count": 5,
   "id": "d6010494",
   "metadata": {},
   "outputs": [],
   "source": [
    "weather_df.to_csv('JordanWeather_2014to2021.csv', index=False)"
   ]
  },
  {
   "cell_type": "code",
   "execution_count": null,
   "id": "4ac7bd2d",
   "metadata": {},
   "outputs": [],
   "source": []
  },
  {
   "cell_type": "code",
   "execution_count": null,
   "id": "0865a47a",
   "metadata": {},
   "outputs": [],
   "source": []
  },
  {
   "cell_type": "code",
   "execution_count": null,
   "id": "3f4ec536",
   "metadata": {},
   "outputs": [],
   "source": []
  },
  {
   "cell_type": "code",
   "execution_count": null,
   "id": "c1b0e561",
   "metadata": {},
   "outputs": [],
   "source": []
  },
  {
   "cell_type": "code",
   "execution_count": null,
   "id": "bd968972",
   "metadata": {},
   "outputs": [],
   "source": []
  },
  {
   "cell_type": "code",
   "execution_count": null,
   "id": "c0689157",
   "metadata": {},
   "outputs": [],
   "source": []
  },
  {
   "cell_type": "code",
   "execution_count": null,
   "id": "8b2d1141",
   "metadata": {},
   "outputs": [],
   "source": []
  },
  {
   "cell_type": "code",
   "execution_count": null,
   "id": "c63cf622",
   "metadata": {},
   "outputs": [],
   "source": []
  },
  {
   "cell_type": "code",
   "execution_count": null,
   "id": "426988e8",
   "metadata": {},
   "outputs": [],
   "source": []
  },
  {
   "cell_type": "code",
   "execution_count": null,
   "id": "4a4f8304",
   "metadata": {},
   "outputs": [],
   "source": []
  },
  {
   "cell_type": "code",
   "execution_count": null,
   "id": "5b5a368f",
   "metadata": {},
   "outputs": [],
   "source": []
  },
  {
   "cell_type": "code",
   "execution_count": null,
   "id": "c612b089",
   "metadata": {},
   "outputs": [],
   "source": []
  },
  {
   "cell_type": "code",
   "execution_count": null,
   "id": "4a7ab6d6",
   "metadata": {},
   "outputs": [],
   "source": []
  },
  {
   "cell_type": "code",
   "execution_count": null,
   "id": "c7c3a81c",
   "metadata": {},
   "outputs": [],
   "source": []
  },
  {
   "cell_type": "code",
   "execution_count": null,
   "id": "a7876daf",
   "metadata": {},
   "outputs": [],
   "source": []
  },
  {
   "cell_type": "code",
   "execution_count": null,
   "id": "2dbaa46f",
   "metadata": {},
   "outputs": [],
   "source": []
  },
  {
   "cell_type": "code",
   "execution_count": null,
   "id": "68bc6160",
   "metadata": {},
   "outputs": [],
   "source": []
  },
  {
   "cell_type": "code",
   "execution_count": null,
   "id": "3b395750",
   "metadata": {},
   "outputs": [],
   "source": []
  },
  {
   "cell_type": "code",
   "execution_count": null,
   "id": "cae99da9",
   "metadata": {},
   "outputs": [],
   "source": []
  }
 ],
 "metadata": {
  "kernelspec": {
   "display_name": "Python 3 (ipykernel)",
   "language": "python",
   "name": "python3"
  },
  "language_info": {
   "codemirror_mode": {
    "name": "ipython",
    "version": 3
   },
   "file_extension": ".py",
   "mimetype": "text/x-python",
   "name": "python",
   "nbconvert_exporter": "python",
   "pygments_lexer": "ipython3",
   "version": "3.9.13"
  },
  "varInspector": {
   "cols": {
    "lenName": 16,
    "lenType": 16,
    "lenVar": 40
   },
   "kernels_config": {
    "python": {
     "delete_cmd_postfix": "",
     "delete_cmd_prefix": "del ",
     "library": "var_list.py",
     "varRefreshCmd": "print(var_dic_list())"
    },
    "r": {
     "delete_cmd_postfix": ") ",
     "delete_cmd_prefix": "rm(",
     "library": "var_list.r",
     "varRefreshCmd": "cat(var_dic_list()) "
    }
   },
   "types_to_exclude": [
    "module",
    "function",
    "builtin_function_or_method",
    "instance",
    "_Feature"
   ],
   "window_display": false
  }
 },
 "nbformat": 4,
 "nbformat_minor": 5
}
