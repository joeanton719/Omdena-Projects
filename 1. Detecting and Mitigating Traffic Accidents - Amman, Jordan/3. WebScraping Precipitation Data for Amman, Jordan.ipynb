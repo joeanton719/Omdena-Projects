{
 "cells": [
  {
   "cell_type": "code",
   "execution_count": 1,
   "id": "52b2c434",
   "metadata": {},
   "outputs": [],
   "source": [
    "import datetime\n",
    "\n",
    "import pandas as pd\n",
    "import numpy as np\n",
    "\n",
    "import asyncio\n",
    "import requests_html\n",
    "from requests.adapters import HTTPAdapter, Retry\n",
    "from requests.exceptions import MissingSchema\n",
    "from requests_html import AsyncHTMLSession\n",
    "from urllib3.exceptions import MaxRetryError\n",
    "\n",
    "from bs4 import BeautifulSoup\n",
    "import re\n",
    "\n",
    "from tqdm.auto import tqdm"
   ]
  },
  {
   "cell_type": "code",
   "execution_count": 2,
   "id": "fed3003b",
   "metadata": {},
   "outputs": [],
   "source": [
    "async def getResponse(months_years):\n",
    "    \n",
    "    pages = (requestHeaders(weather_date=mnth_yr) for mnth_yr in months_years)\n",
    "    return await asyncio.gather(*pages)\n",
    "\n",
    "async def requestHeaders(weather_date):\n",
    "    \n",
    "    url = \"https://tcktcktck.org/jordan/amman/amman-city-centre/\" + weather_date\n",
    "    \n",
    "    asession = AsyncHTMLSession()\n",
    "    \n",
    "    headers = {\n",
    "        'authority': 'tcktcktck.org',\n",
    "        'accept': 'text/html,application/xhtml+xml,application/xml;q=0.9,image/avif,image/webp,image/apng,*/*;q=0.8',\n",
    "        'accept-language': 'en-GB,en;q=0.5',\n",
    "        'cache-control': 'max-age=0',\n",
    "        # 'cookie': 'csrftoken=j4aR4TtvyFpTCTYT4nehWGMWTxYXMet9HIEZb89yTgUFtwEGxS4ioHiYYZI26pHm',\n",
    "        'sec-fetch-dest': 'document',\n",
    "        'sec-fetch-mode': 'navigate',\n",
    "        'sec-fetch-site': 'none',\n",
    "        'sec-fetch-user': '?1',\n",
    "        'sec-gpc': '1',\n",
    "        'upgrade-insecure-requests': '1',\n",
    "        'user-agent': 'Mozilla/5.0 (Windows NT 10.0; Win64; x64) AppleWebKit/537.36 (KHTML, like Gecko) Chrome/108.0.0.0 Safari/537.36',\n",
    "    }\n",
    "    \n",
    "    retries = Retry(total=10, backoff_factor=0.05, status_forcelist=[500, 502, 503, 504, 524])\n",
    "    adapter = HTTPAdapter(max_retries=retries)\n",
    "\n",
    "    asession.mount(\"https://\", adapter)\n",
    "    asession.mount(\"http://\", adapter)\n",
    "\n",
    "    try:\n",
    "        resp = await asession.get(url, headers=headers)\n",
    "        \n",
    "        return get_data(resp=resp)\n",
    "\n",
    "    except (MaxRetryError, requests_html.requests.exceptions.RetryError, MissingSchema) as e:              \n",
    "        return \"Response Error\"\n",
    "    \n",
    "    \n",
    "def get_data(resp):\n",
    "\n",
    "    soup = BeautifulSoup(resp.text, \"lxml\")\n",
    "    rows = soup.find_all(name='div', attrs={'class' : 'table-responsive'})[-1].find_all('tr')[2:]\n",
    "    \n",
    "    data = []\n",
    "    \n",
    "    for row in rows:\n",
    "        data.append({\n",
    "            'date' : row.find_all('td')[0].text,\n",
    "            'precip_mm' : row.find_all('td')[-1].text.split(\" | \")[0],\n",
    "            'precip_in' : row.find_all('td')[-1].text.split(\" | \")[-1]\n",
    "        })\n",
    "        \n",
    "    return pd.DataFrame(data)"
   ]
  },
  {
   "cell_type": "code",
   "execution_count": null,
   "id": "399f2e93",
   "metadata": {},
   "outputs": [],
   "source": [
    "months = [\n",
    "    'january', 'february', 'march', 'april', 'may', 'june', 'july', 'august', 'september', \n",
    "    'october', 'november', 'december'\n",
    "]\n",
    "\n",
    "years = range(2014, 2021)\n",
    "\n",
    "months_years = []\n",
    "for yr in years:\n",
    "    for m in months:\n",
    "        months_years.append(f'{m}-{yr}')\n",
    "        \n",
    "precip_data = await getResponse(months_years=months_years)"
   ]
  },
  {
   "cell_type": "code",
   "execution_count": null,
   "id": "6ebb9bcf",
   "metadata": {},
   "outputs": [],
   "source": [
    "precip_data_df = pd.concat(precip_data, ignore_index=True)"
   ]
  },
  {
   "cell_type": "code",
   "execution_count": null,
   "id": "b79a1bc3",
   "metadata": {},
   "outputs": [],
   "source": [
    "precip_data_df.info()"
   ]
  },
  {
   "cell_type": "code",
   "execution_count": null,
   "id": "8bc9949a",
   "metadata": {},
   "outputs": [],
   "source": [
    "precip_data_df['date'] = pd.to_datetime(precip_data_df['date'])\n",
    "\n",
    "precip_data_df[['precip_mm', 'precip_in']] = precip_data_df[['precip_mm', 'precip_in']].astype('float64')"
   ]
  },
  {
   "cell_type": "code",
   "execution_count": null,
   "id": "5375600e",
   "metadata": {},
   "outputs": [],
   "source": [
    "precip_data_df.plot(x='date', y='precip_mm')"
   ]
  },
  {
   "cell_type": "code",
   "execution_count": null,
   "id": "d1c6efd9",
   "metadata": {},
   "outputs": [],
   "source": [
    "precip_data_df.plot(x='date', y='precip_in')"
   ]
  },
  {
   "cell_type": "code",
   "execution_count": null,
   "id": "f0e7553c",
   "metadata": {},
   "outputs": [],
   "source": [
    "precip_data_df.to_csv(\"AmmanJordan_DailyPrecip_2014to2020.csv\", index=False)"
   ]
  },
  {
   "cell_type": "code",
   "execution_count": null,
   "id": "00bdbe19",
   "metadata": {},
   "outputs": [],
   "source": []
  }
 ],
 "metadata": {
  "kernelspec": {
   "display_name": "Python 3 (ipykernel)",
   "language": "python",
   "name": "python3"
  },
  "language_info": {
   "codemirror_mode": {
    "name": "ipython",
    "version": 3
   },
   "file_extension": ".py",
   "mimetype": "text/x-python",
   "name": "python",
   "nbconvert_exporter": "python",
   "pygments_lexer": "ipython3",
   "version": "3.9.13"
  },
  "varInspector": {
   "cols": {
    "lenName": 16,
    "lenType": 16,
    "lenVar": 40
   },
   "kernels_config": {
    "python": {
     "delete_cmd_postfix": "",
     "delete_cmd_prefix": "del ",
     "library": "var_list.py",
     "varRefreshCmd": "print(var_dic_list())"
    },
    "r": {
     "delete_cmd_postfix": ") ",
     "delete_cmd_prefix": "rm(",
     "library": "var_list.r",
     "varRefreshCmd": "cat(var_dic_list()) "
    }
   },
   "types_to_exclude": [
    "module",
    "function",
    "builtin_function_or_method",
    "instance",
    "_Feature"
   ],
   "window_display": false
  }
 },
 "nbformat": 4,
 "nbformat_minor": 5
}
