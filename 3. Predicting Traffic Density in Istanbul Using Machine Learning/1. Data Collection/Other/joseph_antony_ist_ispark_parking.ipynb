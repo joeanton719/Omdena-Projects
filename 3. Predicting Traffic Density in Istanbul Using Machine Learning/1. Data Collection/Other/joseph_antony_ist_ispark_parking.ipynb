{
 "cells": [
  {
   "cell_type": "code",
   "execution_count": 6,
   "metadata": {},
   "outputs": [],
   "source": [
    "import requests\n",
    "import pandas as pd\n",
    "import json"
   ]
  },
  {
   "attachments": {},
   "cell_type": "markdown",
   "metadata": {},
   "source": [
    "### DATA SOURCE: https://data.ibb.gov.tr/en/dataset/ispark-otopark-listesi-web-servisi"
   ]
  },
  {
   "cell_type": "code",
   "execution_count": 3,
   "metadata": {},
   "outputs": [
    {
     "name": "stdout",
     "output_type": "stream",
     "text": [
      "<Response [200]>\n"
     ]
    }
   ],
   "source": [
    "url=\"https://api.ibb.gov.tr/ispark/Park\"\n",
    "r = requests.get(url)\n",
    "print(r)"
   ]
  },
  {
   "cell_type": "code",
   "execution_count": 9,
   "metadata": {},
   "outputs": [
    {
     "data": {
      "text/html": [
       "<div>\n",
       "<style scoped>\n",
       "    .dataframe tbody tr th:only-of-type {\n",
       "        vertical-align: middle;\n",
       "    }\n",
       "\n",
       "    .dataframe tbody tr th {\n",
       "        vertical-align: top;\n",
       "    }\n",
       "\n",
       "    .dataframe thead th {\n",
       "        text-align: right;\n",
       "    }\n",
       "</style>\n",
       "<table border=\"1\" class=\"dataframe\">\n",
       "  <thead>\n",
       "    <tr style=\"text-align: right;\">\n",
       "      <th></th>\n",
       "      <th>parkID</th>\n",
       "      <th>parkName</th>\n",
       "      <th>lat</th>\n",
       "      <th>lng</th>\n",
       "      <th>capacity</th>\n",
       "      <th>emptyCapacity</th>\n",
       "      <th>workHours</th>\n",
       "      <th>parkType</th>\n",
       "      <th>freeTime</th>\n",
       "      <th>district</th>\n",
       "      <th>isOpen</th>\n",
       "    </tr>\n",
       "  </thead>\n",
       "  <tbody>\n",
       "    <tr>\n",
       "      <th>0</th>\n",
       "      <td>2381</td>\n",
       "      <td>1293 Yavuz Selim Otomatik Otoparkı</td>\n",
       "      <td>41.0233</td>\n",
       "      <td>28.9529</td>\n",
       "      <td>60</td>\n",
       "      <td>58</td>\n",
       "      <td>24 Saat</td>\n",
       "      <td>KAPALI OTOPARK</td>\n",
       "      <td>15</td>\n",
       "      <td>FATİH</td>\n",
       "      <td>1</td>\n",
       "    </tr>\n",
       "    <tr>\n",
       "      <th>1</th>\n",
       "      <td>2866</td>\n",
       "      <td>15 Temmuz Demokrasi Otogarı</td>\n",
       "      <td>41.0416</td>\n",
       "      <td>28.8946</td>\n",
       "      <td>1000</td>\n",
       "      <td>0</td>\n",
       "      <td>24 Saat</td>\n",
       "      <td>AÇIK OTOPARK</td>\n",
       "      <td>40</td>\n",
       "      <td>BAYRAMPAŞA</td>\n",
       "      <td>1</td>\n",
       "    </tr>\n",
       "    <tr>\n",
       "      <th>2</th>\n",
       "      <td>3068</td>\n",
       "      <td>15 Temmuz Şehitler Meydanı Zeminaltı Otoparkı</td>\n",
       "      <td>41.0254</td>\n",
       "      <td>29.092</td>\n",
       "      <td>1029</td>\n",
       "      <td>596</td>\n",
       "      <td>24 Saat</td>\n",
       "      <td>KAPALI OTOPARK</td>\n",
       "      <td>15</td>\n",
       "      <td>ÜMRANİYE</td>\n",
       "      <td>1</td>\n",
       "    </tr>\n",
       "    <tr>\n",
       "      <th>3</th>\n",
       "      <td>2338</td>\n",
       "      <td>19 Mayıs Açık</td>\n",
       "      <td>41.0563</td>\n",
       "      <td>28.9941</td>\n",
       "      <td>65</td>\n",
       "      <td>0</td>\n",
       "      <td>24 Saat</td>\n",
       "      <td>AÇIK OTOPARK</td>\n",
       "      <td>0</td>\n",
       "      <td>ŞİŞLİ</td>\n",
       "      <td>1</td>\n",
       "    </tr>\n",
       "    <tr>\n",
       "      <th>4</th>\n",
       "      <td>786</td>\n",
       "      <td>19 Mayıs Caddesi 1</td>\n",
       "      <td>40.8793</td>\n",
       "      <td>29.2303</td>\n",
       "      <td>15</td>\n",
       "      <td>4</td>\n",
       "      <td>09:00-19:00</td>\n",
       "      <td>YOL ÜSTÜ</td>\n",
       "      <td>15</td>\n",
       "      <td>PENDİK</td>\n",
       "      <td>1</td>\n",
       "    </tr>\n",
       "  </tbody>\n",
       "</table>\n",
       "</div>"
      ],
      "text/plain": [
       "   parkID                                       parkName      lat      lng   \n",
       "0    2381             1293 Yavuz Selim Otomatik Otoparkı  41.0233  28.9529  \\\n",
       "1    2866                    15 Temmuz Demokrasi Otogarı  41.0416  28.8946   \n",
       "2    3068  15 Temmuz Şehitler Meydanı Zeminaltı Otoparkı  41.0254   29.092   \n",
       "3    2338                                  19 Mayıs Açık  41.0563  28.9941   \n",
       "4     786                             19 Mayıs Caddesi 1  40.8793  29.2303   \n",
       "\n",
       "   capacity  emptyCapacity    workHours        parkType  freeTime    district   \n",
       "0        60             58      24 Saat  KAPALI OTOPARK        15       FATİH  \\\n",
       "1      1000              0      24 Saat    AÇIK OTOPARK        40  BAYRAMPAŞA   \n",
       "2      1029            596      24 Saat  KAPALI OTOPARK        15    ÜMRANİYE   \n",
       "3        65              0      24 Saat    AÇIK OTOPARK         0       ŞİŞLİ   \n",
       "4        15              4  09:00-19:00        YOL ÜSTÜ        15      PENDİK   \n",
       "\n",
       "   isOpen  \n",
       "0       1  \n",
       "1       1  \n",
       "2       1  \n",
       "3       1  \n",
       "4       1  "
      ]
     },
     "execution_count": 9,
     "metadata": {},
     "output_type": "execute_result"
    }
   ],
   "source": [
    "ist_parking_list_df = pd.DataFrame(json.loads(r.text))\n",
    "ist_parking_list_df.head()"
   ]
  },
  {
   "cell_type": "code",
   "execution_count": 13,
   "metadata": {},
   "outputs": [],
   "source": [
    "ist_parking_list_df.to_csv(\"tr_ist_ispark_list.csv\", index=False)"
   ]
  }
 ],
 "metadata": {
  "kernelspec": {
   "display_name": "base",
   "language": "python",
   "name": "python3"
  },
  "language_info": {
   "codemirror_mode": {
    "name": "ipython",
    "version": 3
   },
   "file_extension": ".py",
   "mimetype": "text/x-python",
   "name": "python",
   "nbconvert_exporter": "python",
   "pygments_lexer": "ipython3",
   "version": "3.9.13"
  },
  "orig_nbformat": 4
 },
 "nbformat": 4,
 "nbformat_minor": 2
}
