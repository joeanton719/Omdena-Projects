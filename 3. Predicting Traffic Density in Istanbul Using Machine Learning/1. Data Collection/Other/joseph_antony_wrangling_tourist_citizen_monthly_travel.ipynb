{
 "cells": [
  {
   "cell_type": "code",
   "execution_count": 1,
   "metadata": {},
   "outputs": [],
   "source": [
    "import re\n",
    "\n",
    "import pandas as pd\n",
    "\n",
    "import requests\n",
    "from bs4 import BeautifulSoup\n",
    "\n",
    "from tqdm.auto import tqdm\n",
    "from retrying import retry"
   ]
  },
  {
   "attachments": {},
   "cell_type": "markdown",
   "metadata": {},
   "source": [
    "### DATA SOURCE: https://www.ktb.gov.tr/EN-249300/monthly-bulletins.html"
   ]
  },
  {
   "cell_type": "code",
   "execution_count": 2,
   "metadata": {},
   "outputs": [],
   "source": [
    "urls = [\n",
    "    \"https://www.ktb.gov.tr/EN-249306/2019.html\",\n",
    "    \"https://www.ktb.gov.tr/EN-256541/2020.html\",\n",
    "    \"https://www.ktb.gov.tr/EN-283399/2021.html\",\n",
    "    \"https://www.ktb.gov.tr/EN-310546/2022.html\",\n",
    "    \"https://www.ktb.gov.tr/EN-338400/2023.html\"\n",
    "]"
   ]
  },
  {
   "cell_type": "code",
   "execution_count": 3,
   "metadata": {},
   "outputs": [],
   "source": [
    "def get_url_text_dict(elem):\n",
    "\n",
    "    url = \"https://www.ktb.gov.tr\" + elem[\"href\"]\n",
    "    text = re.search(\"citizens,* *(.+)$\", elem.text.strip(), re.IGNORECASE).group(1)\n",
    "\n",
    "    return {url : text}"
   ]
  },
  {
   "cell_type": "code",
   "execution_count": 4,
   "metadata": {},
   "outputs": [],
   "source": [
    "def parse_filenames(url):\n",
    "    r = requests.get(url)\n",
    "    soup=BeautifulSoup(r.text, \"lxml\")\n",
    "\n",
    "    all_files = soup.select(\"div.col-md-11\")[0].find_all(\"a\")\n",
    "    \n",
    "    month_files=[get_url_text_dict(elem=file) for file in all_files if file.text!=\"\"]\n",
    "\n",
    "    return month_files"
   ]
  },
  {
   "cell_type": "code",
   "execution_count": 5,
   "metadata": {},
   "outputs": [],
   "source": [
    "@retry(stop_max_attempt_number=3, wait_fixed=2000)\n",
    "def get_data(key, val):\n",
    "\n",
    "    print(\"Extract data from\", val)\n",
    "\n",
    "    month_dict = {\n",
    "        'january': 1, 'february': 2, 'march': 3, 'april': 4, 'may': 5, 'june': 6, 'july': 7,\n",
    "        'august': 8, 'september': 9, 'october': 10, 'november': 11, 'december': 12\n",
    "        }\n",
    "\n",
    "    raw_df = pd.read_excel(key, sheet_name='Provinces & Transport', skiprows=2)\n",
    "    \n",
    "    if any(raw_df[\"PROVINCES\"].eq('İstanbul')):\n",
    "        df = raw_df[raw_df[\"PROVINCES\"].eq('İstanbul')].reset_index(drop=True)\n",
    "        df[\"month\"]=month_dict[val.split()[0].lower()]\n",
    "        df[\"year\"]=val.split()[1]\n",
    "\n",
    "        return df\n",
    "    \n",
    "    else:\n",
    "        print(\"Issue with\", val)"
   ]
  },
  {
   "cell_type": "code",
   "execution_count": 6,
   "metadata": {},
   "outputs": [],
   "source": [
    "def merge_files(filenames):\n",
    "    df = pd.concat((get_data(key=k, val=v) for file in tqdm(filenames) for k, v in file.items()), ignore_index=True)\n",
    "    return df"
   ]
  },
  {
   "attachments": {},
   "cell_type": "markdown",
   "metadata": {},
   "source": [
    "# Extracting Tourist Arrival Data"
   ]
  },
  {
   "cell_type": "code",
   "execution_count": 7,
   "metadata": {},
   "outputs": [
    {
     "data": {
      "application/vnd.jupyter.widget-view+json": {
       "model_id": "33d5dad94f6d40239a6515d65b479192",
       "version_major": 2,
       "version_minor": 0
      },
      "text/plain": [
       "  0%|          | 0/12 [00:00<?, ?it/s]"
      ]
     },
     "metadata": {},
     "output_type": "display_data"
    },
    {
     "name": "stdout",
     "output_type": "stream",
     "text": [
      "Extract data from January 2019\n",
      "Extract data from February 2019\n",
      "Extract data from March 2019\n",
      "Extract data from April 2019\n",
      "Extract data from May 2019\n",
      "Extract data from June 2019\n",
      "Extract data from July 2019\n",
      "Extract data from July 2019\n",
      "Extract data from August 2019\n",
      "Extract data from September 2019\n",
      "Extract data from October 2019\n",
      "Extract data from November 2019\n",
      "Extract data from December 2019\n"
     ]
    },
    {
     "data": {
      "application/vnd.jupyter.widget-view+json": {
       "model_id": "be9a8bb9c800421a81e9fe613e2396ba",
       "version_major": 2,
       "version_minor": 0
      },
      "text/plain": [
       "  0%|          | 0/12 [00:00<?, ?it/s]"
      ]
     },
     "metadata": {},
     "output_type": "display_data"
    },
    {
     "name": "stdout",
     "output_type": "stream",
     "text": [
      "Extract data from January 2020\n",
      "Extract data from February 2020\n",
      "Extract data from March 2020\n",
      "Extract data from April 2020\n",
      "Extract data from May 2020\n",
      "Extract data from June 2020\n",
      "Extract data from july 2020\n",
      "Extract data from August 2020\n",
      "Extract data from September 2020\n",
      "Extract data from October 2020\n",
      "Extract data from November 2020\n",
      "Extract data from December 2020\n"
     ]
    },
    {
     "data": {
      "application/vnd.jupyter.widget-view+json": {
       "model_id": "be14af982f9848f1a34fa060d6d8486b",
       "version_major": 2,
       "version_minor": 0
      },
      "text/plain": [
       "  0%|          | 0/12 [00:00<?, ?it/s]"
      ]
     },
     "metadata": {},
     "output_type": "display_data"
    },
    {
     "name": "stdout",
     "output_type": "stream",
     "text": [
      "Extract data from January 2021\n",
      "Extract data from February 2021\n",
      "Extract data from March 2021\n",
      "Extract data from April 2021\n",
      "Extract data from May 2021\n",
      "Extract data from June 2021\n",
      "Extract data from July 2021\n",
      "Extract data from August 2021\n",
      "Extract data from September 2021\n",
      "Extract data from October 2021\n",
      "Extract data from November 2021\n",
      "Extract data from November 2021\n",
      "Extract data from December 2021\n"
     ]
    },
    {
     "data": {
      "application/vnd.jupyter.widget-view+json": {
       "model_id": "303456a177084213bd0dbcba7e85d3d3",
       "version_major": 2,
       "version_minor": 0
      },
      "text/plain": [
       "  0%|          | 0/12 [00:00<?, ?it/s]"
      ]
     },
     "metadata": {},
     "output_type": "display_data"
    },
    {
     "name": "stdout",
     "output_type": "stream",
     "text": [
      "Extract data from January 2022\n",
      "Extract data from February 2022\n",
      "Extract data from March 2022\n",
      "Extract data from April 2022\n",
      "Extract data from May 2022\n",
      "Extract data from June 2022\n",
      "Extract data from July 2022\n",
      "Extract data from August 2022\n",
      "Extract data from August 2022\n",
      "Extract data from September 2022\n",
      "Extract data from October 2022\n",
      "Extract data from November 2022\n",
      "Extract data from December 2022\n"
     ]
    },
    {
     "data": {
      "application/vnd.jupyter.widget-view+json": {
       "model_id": "cd91e6ea1b45484ab4eead7be31ee97d",
       "version_major": 2,
       "version_minor": 0
      },
      "text/plain": [
       "  0%|          | 0/4 [00:00<?, ?it/s]"
      ]
     },
     "metadata": {},
     "output_type": "display_data"
    },
    {
     "name": "stdout",
     "output_type": "stream",
     "text": [
      "Extract data from January 2023\n",
      "Extract data from February 2023\n",
      "Extract data from March 2023\n",
      "Extract data from April 2023\n"
     ]
    }
   ],
   "source": [
    "tourist_data=[]\n",
    "\n",
    "for url in urls:\n",
    "    filenames=parse_filenames(url=url)\n",
    "    merged_df=merge_files(filenames=filenames)\n",
    "    tourist_data.append(merged_df)\n"
   ]
  },
  {
   "cell_type": "code",
   "execution_count": 10,
   "metadata": {},
   "outputs": [],
   "source": [
    "df = pd.concat(tourist_data, ignore_index=True)\n",
    "df.to_csv(\"tourist_monthly_arrivals.csv\", index=False)"
   ]
  },
  {
   "attachments": {},
   "cell_type": "markdown",
   "metadata": {},
   "source": [
    "# Citizen Travel Data"
   ]
  },
  {
   "cell_type": "code",
   "execution_count": 18,
   "metadata": {},
   "outputs": [],
   "source": [
    "@retry(stop_max_attempt_number=3, wait_fixed=2000)\n",
    "def wrangle_data(key, val, sheet_name):\n",
    "\n",
    "    # Read excel File\n",
    "    df = pd.read_excel(key, sheet_name=sheet_name, skiprows=2)\n",
    "\n",
    "    # Rename Columns\n",
    "    df = df.rename(columns={\"Unnamed: 0\" : \"PROVINCES\", \"Unnamed: 1\" : \"BORDER GATES\"})\n",
    "\n",
    "    df[\"PROVINCES\"] = df[\"PROVINCES\"].ffill()\n",
    "    ist_df = df[df[\"PROVINCES\"].eq(\"İstanbul\")]\n",
    "\n",
    "    try:\n",
    "        ist_df = ist_df.drop([\"PROVINCES\", \"Unnamed: 2\", \"Unnamed: 15\"], axis=1)\n",
    "\n",
    "    except KeyError:\n",
    "        ist_df = ist_df.drop([\"PROVINCES\", \"Unnamed: 2\", \"Unnamed: 7\"], axis=1)\n",
    "\n",
    "    ist_df = ist_df[ist_df[\"BORDER GATES\"].ne(\"TOTAL\")]\n",
    "    ist_df=ist_df.melt(id_vars=\"BORDER GATES\", var_name=\"month\",value_name=\"number_of_people\")\n",
    "    ist_df[\"month\"] = ist_df[\"month\"].str.lower()\n",
    "    ist_df[\"year\"] = int(val)\n",
    "    ist_df[\"citizen_travel_type\"] = sheet_name\n",
    "    \n",
    "    return ist_df"
   ]
  },
  {
   "cell_type": "code",
   "execution_count": 21,
   "metadata": {},
   "outputs": [
    {
     "data": {
      "application/vnd.jupyter.widget-view+json": {
       "model_id": "99f0dfb0edbb47c3bdedbd4db006ffac",
       "version_major": 2,
       "version_minor": 0
      },
      "text/plain": [
       "  0%|          | 0/5 [00:00<?, ?it/s]"
      ]
     },
     "metadata": {},
     "output_type": "display_data"
    }
   ],
   "source": [
    "citizen_data=[]\n",
    "\n",
    "for url in tqdm(urls):\n",
    "    filenames=parse_filenames(url=url)\n",
    "\n",
    "    for k, v in filenames[-1].items():\n",
    "        for name in [\"Returning\", \"Travelling Abroad\"]:\n",
    "            df = wrangle_data(key=k, val=int(v.split()[1]), sheet_name=name)\n",
    "            citizen_data.append(df)"
   ]
  },
  {
   "cell_type": "code",
   "execution_count": 23,
   "metadata": {},
   "outputs": [],
   "source": [
    "citizen_travel_df = pd.concat(citizen_data, ignore_index=True)"
   ]
  },
  {
   "cell_type": "code",
   "execution_count": 25,
   "metadata": {},
   "outputs": [],
   "source": [
    "citizen_travel_df.to_csv(\"citizen_travel_df.csv\", index=False)"
   ]
  }
 ],
 "metadata": {
  "kernelspec": {
   "display_name": "base",
   "language": "python",
   "name": "python3"
  },
  "language_info": {
   "codemirror_mode": {
    "name": "ipython",
    "version": 3
   },
   "file_extension": ".py",
   "mimetype": "text/x-python",
   "name": "python",
   "nbconvert_exporter": "python",
   "pygments_lexer": "ipython3",
   "version": "3.9.13"
  },
  "orig_nbformat": 4
 },
 "nbformat": 4,
 "nbformat_minor": 2
}
