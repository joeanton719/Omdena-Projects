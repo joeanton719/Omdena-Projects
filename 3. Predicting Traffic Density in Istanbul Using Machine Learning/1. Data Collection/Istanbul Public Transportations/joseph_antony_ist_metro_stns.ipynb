{
 "cells": [
  {
   "cell_type": "code",
   "execution_count": 1,
   "metadata": {},
   "outputs": [],
   "source": [
    "import requests\n",
    "import pandas as pd"
   ]
  },
  {
   "attachments": {},
   "cell_type": "markdown",
   "metadata": {},
   "source": [
    "### DATA SOURCE: \n",
    "\n",
    "* Railway Group Data:\n",
    "[IBB](https://data.ibb.gov.tr/en/dataset/metro-istanbul-rayli-sistem-grup-listesi) --> [Metro Istanbul Rail System Group List](https://data.ibb.gov.tr/en/dataset/metro-istanbul-rayli-sistem-grup-listesi/resource/556a2d81-d1aa-4bf7-9174-8be310116d4d) --> [API data](https://api.ibb.gov.tr/MetroIstanbul/api/MetroMobile/V2/GetRailwayGroups)\n",
    "\n",
    "* Metro Station Data:\n",
    "[IBB](https://data.ibb.gov.tr/en/dataset/metro-istanbul-hat-bilgisi-listesi) --> [Metro İstanbul Web Services Help Page](https://data.ibb.gov.tr/en/dataset/metro-istanbul-hat-bilgisi-listesi/resource/2755291e-a7ba-4be9-a00d-1cbaf6b303a1) --> [Metro Istanbul API's list](https://api.ibb.gov.tr/MetroIstanbul/Help) --> [GET api/MetroMobile/GetStations](https://api.ibb.gov.tr/MetroIstanbul/Help/Api/GET-api-MetroMobile-GetStations)\n"
   ]
  },
  {
   "attachments": {},
   "cell_type": "markdown",
   "metadata": {},
   "source": [
    "## Railway Group List"
   ]
  },
  {
   "cell_type": "code",
   "execution_count": 2,
   "metadata": {},
   "outputs": [
    {
     "name": "stdout",
     "output_type": "stream",
     "text": [
      "<Response [200]>\n",
      "{'Group': 'M', 'Name': 'Metro Hatları', 'Lines': {'1': 'M2', '2': 'M3', '3': 'M4', '5': 'M5', '6': 'M6', '7': 'M7', '8': 'M8', '9': 'M1A', '10': 'M1B', '17': 'M9'}}\n",
      "\n",
      "{'Group': 'T', 'Name': 'Tramvay Hatları', 'Lines': {'11': 'T1', '12': 'T3', '13': 'T4', '14': 'T5'}}\n",
      "\n",
      "{'Group': 'F', 'Name': 'Füniküler Hatları', 'Lines': {'4': 'F1', '20': 'F4'}}\n",
      "\n",
      "{'Group': 'TF', 'Name': 'Teleferik Hatları', 'Lines': {'15': 'TF1', '16': 'TF2'}}\n",
      "\n"
     ]
    }
   ],
   "source": [
    "railway_groups_api = \"https://api.ibb.gov.tr/MetroIstanbul/api/MetroMobile/V2/GetRailwayGroups\"\n",
    "r = requests.get(railway_groups_api)\n",
    "print(r)\n",
    "railway_groups_json_obj = r.json()\n",
    "\n",
    "for row in railway_groups_json_obj['Data']:\n",
    "    print(row)\n",
    "    print()"
   ]
  },
  {
   "attachments": {},
   "cell_type": "markdown",
   "metadata": {},
   "source": [
    "## Istanbul Metro Stations"
   ]
  },
  {
   "cell_type": "code",
   "execution_count": 3,
   "metadata": {},
   "outputs": [
    {
     "name": "stdout",
     "output_type": "stream",
     "text": [
      "<Response [200]>\n"
     ]
    }
   ],
   "source": [
    "# GET Request\n",
    "r = requests.get(\"https://api.ibb.gov.tr/MetroIstanbul/api/MetroMobile/GetStations\")\n",
    "print(r)\n",
    "# Save Json Data\n",
    "json_obj = r.json()\n",
    "\n",
    "# Extract Data\n",
    "metro_stn_data = []\n",
    "\n",
    "for row in json_obj:\n",
    "\n",
    "    lat=row['DetailInfo']['Latitude']\n",
    "    long=row['DetailInfo']['Longitude']\n",
    "\n",
    "    data_dict = {k : row[k] for k in row.keys() if k not in ('Id', 'DetailInfo')}\n",
    "    data_dict.update({'Latitude':lat})\n",
    "    data_dict.update({'Longitude':long})\n",
    "\n",
    "    metro_stn_data.append(data_dict)\n",
    "\n",
    "df = pd.DataFrame(metro_stn_data)"
   ]
  },
  {
   "cell_type": "code",
   "execution_count": 4,
   "metadata": {},
   "outputs": [],
   "source": [
    "df['Latitude'] = df['Latitude'].astype(\"float64\")\n",
    "df['Longitude'] = df['Longitude'].astype(\"float64\")"
   ]
  },
  {
   "cell_type": "code",
   "execution_count": 5,
   "metadata": {},
   "outputs": [],
   "source": [
    "df['RailType'] = (\n",
    "    df['LineName'].str.extract(r'^(\\D+)\\d+\\D*$', expand=False)\n",
    "    .map({\"M\" : \"Metro\", \"T\" : \"Tramway\", \"F\" : \"Funicular\", \"TF\" : \"Cable Car\"})\n",
    ")"
   ]
  },
  {
   "cell_type": "code",
   "execution_count": 6,
   "metadata": {},
   "outputs": [
    {
     "data": {
      "text/plain": [
       "195"
      ]
     },
     "execution_count": 6,
     "metadata": {},
     "output_type": "execute_result"
    }
   ],
   "source": [
    "# Total 195 metro stations\n",
    "len(df['Name'].unique())"
   ]
  },
  {
   "cell_type": "code",
   "execution_count": 7,
   "metadata": {},
   "outputs": [
    {
     "data": {
      "text/html": [
       "<div>\n",
       "<style scoped>\n",
       "    .dataframe tbody tr th:only-of-type {\n",
       "        vertical-align: middle;\n",
       "    }\n",
       "\n",
       "    .dataframe tbody tr th {\n",
       "        vertical-align: top;\n",
       "    }\n",
       "\n",
       "    .dataframe thead th {\n",
       "        text-align: right;\n",
       "    }\n",
       "</style>\n",
       "<table border=\"1\" class=\"dataframe\">\n",
       "  <thead>\n",
       "    <tr style=\"text-align: right;\">\n",
       "      <th></th>\n",
       "      <th>LineId</th>\n",
       "      <th>LineName</th>\n",
       "      <th>RailType</th>\n",
       "    </tr>\n",
       "  </thead>\n",
       "  <tbody>\n",
       "    <tr>\n",
       "      <th>0</th>\n",
       "      <td>1</td>\n",
       "      <td>M2</td>\n",
       "      <td>Metro</td>\n",
       "    </tr>\n",
       "    <tr>\n",
       "      <th>1</th>\n",
       "      <td>2</td>\n",
       "      <td>M3</td>\n",
       "      <td>Metro</td>\n",
       "    </tr>\n",
       "    <tr>\n",
       "      <th>2</th>\n",
       "      <td>3</td>\n",
       "      <td>M4</td>\n",
       "      <td>Metro</td>\n",
       "    </tr>\n",
       "    <tr>\n",
       "      <th>3</th>\n",
       "      <td>4</td>\n",
       "      <td>F1</td>\n",
       "      <td>Funicular</td>\n",
       "    </tr>\n",
       "    <tr>\n",
       "      <th>4</th>\n",
       "      <td>5</td>\n",
       "      <td>M5</td>\n",
       "      <td>Metro</td>\n",
       "    </tr>\n",
       "    <tr>\n",
       "      <th>5</th>\n",
       "      <td>6</td>\n",
       "      <td>M6</td>\n",
       "      <td>Metro</td>\n",
       "    </tr>\n",
       "    <tr>\n",
       "      <th>6</th>\n",
       "      <td>7</td>\n",
       "      <td>M7</td>\n",
       "      <td>Metro</td>\n",
       "    </tr>\n",
       "    <tr>\n",
       "      <th>7</th>\n",
       "      <td>8</td>\n",
       "      <td>M8</td>\n",
       "      <td>Metro</td>\n",
       "    </tr>\n",
       "    <tr>\n",
       "      <th>8</th>\n",
       "      <td>9</td>\n",
       "      <td>M1A</td>\n",
       "      <td>Metro</td>\n",
       "    </tr>\n",
       "    <tr>\n",
       "      <th>9</th>\n",
       "      <td>10</td>\n",
       "      <td>M1B</td>\n",
       "      <td>Metro</td>\n",
       "    </tr>\n",
       "    <tr>\n",
       "      <th>10</th>\n",
       "      <td>11</td>\n",
       "      <td>T1</td>\n",
       "      <td>Tramway</td>\n",
       "    </tr>\n",
       "    <tr>\n",
       "      <th>11</th>\n",
       "      <td>12</td>\n",
       "      <td>T3</td>\n",
       "      <td>Tramway</td>\n",
       "    </tr>\n",
       "    <tr>\n",
       "      <th>12</th>\n",
       "      <td>13</td>\n",
       "      <td>T4</td>\n",
       "      <td>Tramway</td>\n",
       "    </tr>\n",
       "    <tr>\n",
       "      <th>13</th>\n",
       "      <td>14</td>\n",
       "      <td>T5</td>\n",
       "      <td>Tramway</td>\n",
       "    </tr>\n",
       "    <tr>\n",
       "      <th>14</th>\n",
       "      <td>15</td>\n",
       "      <td>TF1</td>\n",
       "      <td>Cable Car</td>\n",
       "    </tr>\n",
       "    <tr>\n",
       "      <th>15</th>\n",
       "      <td>16</td>\n",
       "      <td>TF2</td>\n",
       "      <td>Cable Car</td>\n",
       "    </tr>\n",
       "    <tr>\n",
       "      <th>16</th>\n",
       "      <td>17</td>\n",
       "      <td>M9</td>\n",
       "      <td>Metro</td>\n",
       "    </tr>\n",
       "    <tr>\n",
       "      <th>17</th>\n",
       "      <td>20</td>\n",
       "      <td>F4</td>\n",
       "      <td>Funicular</td>\n",
       "    </tr>\n",
       "  </tbody>\n",
       "</table>\n",
       "</div>"
      ],
      "text/plain": [
       "    LineId LineName   RailType\n",
       "0        1       M2      Metro\n",
       "1        2       M3      Metro\n",
       "2        3       M4      Metro\n",
       "3        4       F1  Funicular\n",
       "4        5       M5      Metro\n",
       "5        6       M6      Metro\n",
       "6        7       M7      Metro\n",
       "7        8       M8      Metro\n",
       "8        9      M1A      Metro\n",
       "9       10      M1B      Metro\n",
       "10      11       T1    Tramway\n",
       "11      12       T3    Tramway\n",
       "12      13       T4    Tramway\n",
       "13      14       T5    Tramway\n",
       "14      15      TF1  Cable Car\n",
       "15      16      TF2  Cable Car\n",
       "16      17       M9      Metro\n",
       "17      20       F4  Funicular"
      ]
     },
     "execution_count": 7,
     "metadata": {},
     "output_type": "execute_result"
    }
   ],
   "source": [
    "(\n",
    "    df[['LineId', 'LineName', 'RailType']]\n",
    "    .drop_duplicates()\n",
    "    .sort_values('LineId', ignore_index=True)\n",
    ")"
   ]
  },
  {
   "cell_type": "code",
   "execution_count": 8,
   "metadata": {},
   "outputs": [
    {
     "data": {
      "text/plain": [
       "array(['S-H-I'], dtype=object)"
      ]
     },
     "execution_count": 8,
     "metadata": {},
     "output_type": "execute_result"
    }
   ],
   "source": [
    "df[\"FunctionalCode\"].str.extract(r'^\\D{1,2}-\\w+-(.+)-\\d+$', expand=False).unique()"
   ]
  },
  {
   "cell_type": "code",
   "execution_count": 10,
   "metadata": {},
   "outputs": [],
   "source": [
    "df.to_csv(\"tr_istanbul_metro_stns.csv\", index=False)"
   ]
  }
 ],
 "metadata": {
  "kernelspec": {
   "display_name": "base",
   "language": "python",
   "name": "python3"
  },
  "language_info": {
   "codemirror_mode": {
    "name": "ipython",
    "version": 3
   },
   "file_extension": ".py",
   "mimetype": "text/x-python",
   "name": "python",
   "nbconvert_exporter": "python",
   "pygments_lexer": "ipython3",
   "version": "3.9.13"
  },
  "orig_nbformat": 4
 },
 "nbformat": 4,
 "nbformat_minor": 2
}
