{
 "cells": [
  {
   "cell_type": "code",
   "execution_count": 1,
   "metadata": {},
   "outputs": [],
   "source": [
    "from suds.client import Client\n",
    "import json\n",
    "import pandas as pd"
   ]
  },
  {
   "attachments": {},
   "cell_type": "markdown",
   "metadata": {},
   "source": [
    "### DATA SOURCE: https://data.ibb.gov.tr/en/dataset/iett-hat-durak-guzergah-web-servisi"
   ]
  },
  {
   "attachments": {},
   "cell_type": "markdown",
   "metadata": {},
   "source": [
    "### IST Bus Stops"
   ]
  },
  {
   "cell_type": "code",
   "execution_count": 2,
   "metadata": {},
   "outputs": [
    {
     "name": "stdout",
     "output_type": "stream",
     "text": [
      "Done!\n"
     ]
    }
   ],
   "source": [
    "# Create a client for the WSDL\n",
    "wsdl_url = \"https://api.ibb.gov.tr/iett/UlasimAnaVeri/HatDurakGuzergah.asmx?wsdl\"\n",
    "client = Client(wsdl_url)\n",
    "\n",
    "# Invoke the GetDurak_json operation with a blank DurakKodu parameter\n",
    "json_response = client.service.GetDurak_json(DurakKodu=\"\")\n",
    "\n",
    "# Convert to Json object\n",
    "text_string = str(json_response)\n",
    "json_obj = json.loads(text_string)\n",
    "print('Done!')"
   ]
  },
  {
   "cell_type": "code",
   "execution_count": 38,
   "metadata": {},
   "outputs": [
    {
     "data": {
      "text/html": [
       "<div>\n",
       "<style scoped>\n",
       "    .dataframe tbody tr th:only-of-type {\n",
       "        vertical-align: middle;\n",
       "    }\n",
       "\n",
       "    .dataframe tbody tr th {\n",
       "        vertical-align: top;\n",
       "    }\n",
       "\n",
       "    .dataframe thead th {\n",
       "        text-align: right;\n",
       "    }\n",
       "</style>\n",
       "<table border=\"1\" class=\"dataframe\">\n",
       "  <thead>\n",
       "    <tr style=\"text-align: right;\">\n",
       "      <th></th>\n",
       "      <th>STATION_CODE</th>\n",
       "      <th>STATION_NAME</th>\n",
       "      <th>DISTRICT</th>\n",
       "      <th>DIRECTION</th>\n",
       "      <th>STOP_TYPE</th>\n",
       "      <th>LATITUDE</th>\n",
       "      <th>LONGITUDE</th>\n",
       "    </tr>\n",
       "  </thead>\n",
       "  <tbody>\n",
       "    <tr>\n",
       "      <th>0</th>\n",
       "      <td>225981</td>\n",
       "      <td>DENİZ HARP OKULU</td>\n",
       "      <td>Tuzla</td>\n",
       "      <td>TUZLA</td>\n",
       "      <td>CCMODERN</td>\n",
       "      <td>40.814013</td>\n",
       "      <td>29.266184</td>\n",
       "    </tr>\n",
       "    <tr>\n",
       "      <th>1</th>\n",
       "      <td>123932</td>\n",
       "      <td>BAŞAKPAZAR</td>\n",
       "      <td>Basaksehir</td>\n",
       "      <td>BASAKSEHIR 4. ETAP</td>\n",
       "      <td>İSTON GENİŞ</td>\n",
       "      <td>41.111396</td>\n",
       "      <td>28.810080</td>\n",
       "    </tr>\n",
       "    <tr>\n",
       "      <th>2</th>\n",
       "      <td>214552</td>\n",
       "      <td>ORTADAĞ</td>\n",
       "      <td>Sancaktepe</td>\n",
       "      <td>SARIGAZI</td>\n",
       "      <td>İETTBAYRAK</td>\n",
       "      <td>40.954584</td>\n",
       "      <td>29.214663</td>\n",
       "    </tr>\n",
       "    <tr>\n",
       "      <th>3</th>\n",
       "      <td>127912</td>\n",
       "      <td>CİHANGİR MAHALLESİ</td>\n",
       "      <td>Avcilar</td>\n",
       "      <td>B.ÇEKMECE</td>\n",
       "      <td>İETTBAYRAK</td>\n",
       "      <td>40.990910</td>\n",
       "      <td>28.713838</td>\n",
       "    </tr>\n",
       "    <tr>\n",
       "      <th>4</th>\n",
       "      <td>130712</td>\n",
       "      <td>ORHANGAZİ CADDESİ</td>\n",
       "      <td>Avcilar</td>\n",
       "      <td>AVCILAR-ESENYURT</td>\n",
       "      <td>İETTCAMLI</td>\n",
       "      <td>41.003121</td>\n",
       "      <td>28.709718</td>\n",
       "    </tr>\n",
       "  </tbody>\n",
       "</table>\n",
       "</div>"
      ],
      "text/plain": [
       "   STATION_CODE        STATION_NAME    DISTRICT           DIRECTION   \n",
       "0        225981    DENİZ HARP OKULU       Tuzla               TUZLA  \\\n",
       "1        123932          BAŞAKPAZAR  Basaksehir  BASAKSEHIR 4. ETAP   \n",
       "2        214552             ORTADAĞ  Sancaktepe            SARIGAZI   \n",
       "3        127912  CİHANGİR MAHALLESİ     Avcilar           B.ÇEKMECE   \n",
       "4        130712   ORHANGAZİ CADDESİ     Avcilar    AVCILAR-ESENYURT   \n",
       "\n",
       "     STOP_TYPE   LATITUDE  LONGITUDE  \n",
       "0     CCMODERN  40.814013  29.266184  \n",
       "1  İSTON GENİŞ  41.111396  28.810080  \n",
       "2   İETTBAYRAK  40.954584  29.214663  \n",
       "3   İETTBAYRAK  40.990910  28.713838  \n",
       "4    İETTCAMLI  41.003121  28.709718  "
      ]
     },
     "execution_count": 38,
     "metadata": {},
     "output_type": "execute_result"
    }
   ],
   "source": [
    "df = (\n",
    "    pd.DataFrame(json_obj)\n",
    "    .assign(LATITUDE=lambda x: x['KOORDINAT'].str.extract(r'POINT \\(.+ (.+)\\)$', expand=False).astype(\"float64\"),\n",
    "            LONGITUDE=lambda x: x['KOORDINAT'].str.extract(r'POINT \\((.+) ', expand=False).astype(\"float64\"))\n",
    "    .rename(columns={\"SDURAKKODU\" : \"STATION_CODE\",\n",
    "                       \"SDURAKADI\" : \"STATION_NAME\",\n",
    "                       \"ILCEADI\" : \"DISTRICT\",\n",
    "                       \"SYON\" : \"DIRECTION\",\n",
    "                       \"DURAK_TIPI\" : \"STOP_TYPE\"})\n",
    "    .drop([\"KOORDINAT\", \"AKILLI\", \"FIZIKI\", \"ENGELLIKULLANIM\"], axis=1)\n",
    ")\n",
    "\n",
    "df.head()"
   ]
  },
  {
   "cell_type": "code",
   "execution_count": 39,
   "metadata": {},
   "outputs": [],
   "source": [
    "df.to_csv(\"tr_ist_bus_stops.csv\", index=False)"
   ]
  },
  {
   "attachments": {},
   "cell_type": "markdown",
   "metadata": {},
   "source": [
    "### IST Bus Lines"
   ]
  },
  {
   "cell_type": "code",
   "execution_count": 2,
   "metadata": {},
   "outputs": [
    {
     "name": "stdout",
     "output_type": "stream",
     "text": [
      "Done!\n"
     ]
    }
   ],
   "source": [
    "# Create a client for the WSDL\n",
    "wsdl_url = \"https://api.ibb.gov.tr/iett/ibb/ibb.asmx?wsdl\"\n",
    "client = Client(wsdl_url)\n",
    "\n",
    "# Invoke the DurakDetay_GYY operation with a blank hat_kodu parameter\n",
    "response = client.service.DurakDetay_GYY(hat_kodu=\"\")\n",
    "\n",
    "# Print the response\n",
    "print(\"Done!\")"
   ]
  },
  {
   "cell_type": "code",
   "execution_count": 5,
   "metadata": {},
   "outputs": [],
   "source": [
    "rows = response.NewDataSet.Table"
   ]
  },
  {
   "cell_type": "code",
   "execution_count": 20,
   "metadata": {},
   "outputs": [],
   "source": [
    "line_df = (\n",
    "    pd.DataFrame([dict(row) for row in rows])\n",
    "    .rename(columns={\"HATKODU\" : \"LINE_CODE\",\n",
    "                     \"YON\" : \"DIRECTION\",\n",
    "                     \"SIRANO\" : \"SEQ_NUM\",\n",
    "                     \"DURAKKODU\" : \"STN_CODE\",\n",
    "                     \"YKOORDINATI\" : \"LATITUDE\",\n",
    "                     \"XKOORDINATI\" : \"LONGITUDE\",\n",
    "                     \"DURAKTIPI\" : \"STOP_TYPE\",\n",
    "                     \"ISLETMEBOLGE\" : \"BUSINESS_REGION\",\n",
    "                     \"ISLETMEALTBOLGE\" : \"SUB_REGION\",\n",
    "                     \"ILCEADI\" : \"DISTRICT\"})\n",
    "    .reindex(columns=[\"LINE_CODE\", \"DIRECTION\", \"SEQ_NUM\", \"STN_CODE\", \"DURAKADI\", \"LATITUDE\", \n",
    "                      \"LONGITUDE\", \"STOP_TYPE\", \"BUSINESS_REGION\", \"SUB_REGION\", \"DISTRICT\"])\n",
    ")"
   ]
  },
  {
   "cell_type": "code",
   "execution_count": 28,
   "metadata": {},
   "outputs": [
    {
     "data": {
      "text/html": [
       "<div>\n",
       "<style scoped>\n",
       "    .dataframe tbody tr th:only-of-type {\n",
       "        vertical-align: middle;\n",
       "    }\n",
       "\n",
       "    .dataframe tbody tr th {\n",
       "        vertical-align: top;\n",
       "    }\n",
       "\n",
       "    .dataframe thead th {\n",
       "        text-align: right;\n",
       "    }\n",
       "</style>\n",
       "<table border=\"1\" class=\"dataframe\">\n",
       "  <thead>\n",
       "    <tr style=\"text-align: right;\">\n",
       "      <th></th>\n",
       "      <th>LINE_CODE</th>\n",
       "      <th>DIRECTION</th>\n",
       "      <th>SEQ_NUM</th>\n",
       "      <th>STN_CODE</th>\n",
       "      <th>DURAKADI</th>\n",
       "      <th>LATITUDE</th>\n",
       "      <th>LONGITUDE</th>\n",
       "      <th>STOP_TYPE</th>\n",
       "      <th>BUSINESS_REGION</th>\n",
       "      <th>SUB_REGION</th>\n",
       "      <th>DISTRICT</th>\n",
       "    </tr>\n",
       "  </thead>\n",
       "  <tbody>\n",
       "    <tr>\n",
       "      <th>0</th>\n",
       "      <td>AND2Y</td>\n",
       "      <td>G</td>\n",
       "      <td>1</td>\n",
       "      <td>210141</td>\n",
       "      <td>YUNUS GARAJI</td>\n",
       "      <td>40.889562</td>\n",
       "      <td>29.206028</td>\n",
       "      <td>İETTCAMLI</td>\n",
       "      <td>Anadolu2</td>\n",
       "      <td>Pendik</td>\n",
       "      <td>Kartal</td>\n",
       "    </tr>\n",
       "    <tr>\n",
       "      <th>1</th>\n",
       "      <td>AND2Y</td>\n",
       "      <td>G</td>\n",
       "      <td>2</td>\n",
       "      <td>210142</td>\n",
       "      <td>YUNUS GARAJI</td>\n",
       "      <td>40.889730</td>\n",
       "      <td>29.206019</td>\n",
       "      <td>İETTBAYRAK</td>\n",
       "      <td>Anadolu2</td>\n",
       "      <td>Pendik</td>\n",
       "      <td>Kartal</td>\n",
       "    </tr>\n",
       "    <tr>\n",
       "      <th>2</th>\n",
       "      <td>ARN1</td>\n",
       "      <td>D</td>\n",
       "      <td>1</td>\n",
       "      <td>304561</td>\n",
       "      <td>ARNAVUTKÖY PERONLAR</td>\n",
       "      <td>41.178379</td>\n",
       "      <td>28.750063</td>\n",
       "      <td>CCMODERN</td>\n",
       "      <td>Avrupa2</td>\n",
       "      <td>Arnavutköy</td>\n",
       "      <td>Arnavutköy</td>\n",
       "    </tr>\n",
       "    <tr>\n",
       "      <th>3</th>\n",
       "      <td>ARN1</td>\n",
       "      <td>D</td>\n",
       "      <td>2</td>\n",
       "      <td>183682</td>\n",
       "      <td>ŞİRİNDERE CAMİİ</td>\n",
       "      <td>41.182427</td>\n",
       "      <td>28.752764</td>\n",
       "      <td>İETTCAMLI</td>\n",
       "      <td>Avrupa2</td>\n",
       "      <td>Arnavutköy</td>\n",
       "      <td>Arnavutköy</td>\n",
       "    </tr>\n",
       "    <tr>\n",
       "      <th>4</th>\n",
       "      <td>ARN1</td>\n",
       "      <td>D</td>\n",
       "      <td>3</td>\n",
       "      <td>107411</td>\n",
       "      <td>FATİH CADDESİ</td>\n",
       "      <td>41.180404</td>\n",
       "      <td>28.745626</td>\n",
       "      <td>CCMODERN</td>\n",
       "      <td>Avrupa2</td>\n",
       "      <td>Arnavutköy</td>\n",
       "      <td>Arnavutköy</td>\n",
       "    </tr>\n",
       "  </tbody>\n",
       "</table>\n",
       "</div>"
      ],
      "text/plain": [
       "  LINE_CODE DIRECTION SEQ_NUM STN_CODE             DURAKADI   LATITUDE   \n",
       "0     AND2Y         G       1   210141         YUNUS GARAJI  40.889562  \\\n",
       "1     AND2Y         G       2   210142         YUNUS GARAJI  40.889730   \n",
       "2      ARN1         D       1   304561  ARNAVUTKÖY PERONLAR  41.178379   \n",
       "3      ARN1         D       2   183682      ŞİRİNDERE CAMİİ  41.182427   \n",
       "4      ARN1         D       3   107411        FATİH CADDESİ  41.180404   \n",
       "\n",
       "   LONGITUDE   STOP_TYPE BUSINESS_REGION  SUB_REGION    DISTRICT  \n",
       "0  29.206028   İETTCAMLI        Anadolu2      Pendik      Kartal  \n",
       "1  29.206019  İETTBAYRAK        Anadolu2      Pendik      Kartal  \n",
       "2  28.750063    CCMODERN         Avrupa2  Arnavutköy  Arnavutköy  \n",
       "3  28.752764   İETTCAMLI         Avrupa2  Arnavutköy  Arnavutköy  \n",
       "4  28.745626    CCMODERN         Avrupa2  Arnavutköy  Arnavutköy  "
      ]
     },
     "execution_count": 28,
     "metadata": {},
     "output_type": "execute_result"
    }
   ],
   "source": [
    "line_df.head()"
   ]
  },
  {
   "cell_type": "code",
   "execution_count": 26,
   "metadata": {},
   "outputs": [
    {
     "name": "stdout",
     "output_type": "stream",
     "text": [
      "LINE_CODE :\n",
      "Unique Categories: 1025\n",
      "[AND2Y ARN1 AVR1 ... 99 99A 99Y]\n",
      "\n",
      "DIRECTION :\n",
      "Unique Categories: 2\n",
      "[G D]\n",
      "\n",
      "SEQ_NUM :\n",
      "Unique Categories: 96\n",
      "[1 2 3 4 5 6 7 8 9 10 11 12 13 14 15 16 17 18 19 20 21 22 23 24 25 26 27\n",
      " 28 29 30 31 32 33 34 35 36 37 38 39 40 41 42 43 44 45 46 47 48 49 50 51\n",
      " 52 53 54 55 56 57 58 59 60 61 62 63 64 65 66 67 68 69 70 71 72 73 74 75\n",
      " 76 77 78 79 80 81 82 83 84 85 86 87 88 89 90 91 92 93 94 95 96]\n",
      "\n",
      "STN_CODE :\n",
      "Unique Categories: 13050\n",
      "[210141 210142 304561 ... 126642 183691 126751]\n",
      "\n"
     ]
    }
   ],
   "source": [
    "for col in [\"LINE_CODE\", \"DIRECTION\", \"SEQ_NUM\", \"STN_CODE\"]:\n",
    "    print(col, \":\")\n",
    "    print(f\"Unique Categories: {len(line_df[col].unique())}\")\n",
    "    print(line_df[col].unique())\n",
    "    print()"
   ]
  },
  {
   "cell_type": "code",
   "execution_count": 85,
   "metadata": {},
   "outputs": [],
   "source": [
    "line_df.to_csv(\"tr_ist_bus_lines.csv\", index=False)"
   ]
  }
 ],
 "metadata": {
  "kernelspec": {
   "display_name": "base",
   "language": "python",
   "name": "python3"
  },
  "language_info": {
   "codemirror_mode": {
    "name": "ipython",
    "version": 3
   },
   "file_extension": ".py",
   "mimetype": "text/x-python",
   "name": "python",
   "nbconvert_exporter": "python",
   "pygments_lexer": "ipython3",
   "version": "3.9.13"
  },
  "orig_nbformat": 4
 },
 "nbformat": 4,
 "nbformat_minor": 2
}
