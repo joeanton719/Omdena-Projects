{
 "cells": [
  {
   "cell_type": "code",
   "execution_count": 1,
   "metadata": {},
   "outputs": [],
   "source": [
    "import os\n",
    "\n",
    "import pandas as pd\n",
    "\n",
    "from selenium import webdriver\n",
    "from selenium.webdriver.chrome.service import Service\n",
    "from webdriver_manager.chrome import ChromeDriverManager\n",
    "\n",
    "from bs4 import BeautifulSoup\n",
    "\n",
    "os.environ['WDM_LOG_LEVEL'] = \"false\"\n",
    "\n",
    "import logging\n",
    "logging.getLogger('WDM').setLevel(logging.NOTSET)"
   ]
  },
  {
   "attachments": {},
   "cell_type": "markdown",
   "metadata": {},
   "source": [
    "### DATA SOURCE: https://www.tff.org/default.aspx?pageID=523"
   ]
  },
  {
   "cell_type": "code",
   "execution_count": 2,
   "metadata": {},
   "outputs": [],
   "source": [
    "def get_driver():\n",
    "\n",
    "    options = webdriver.ChromeOptions()\n",
    "    # options.headless = True\n",
    "    options.add_argument('--log-level=3')\n",
    "    options.add_argument(\"--silent\")\n",
    "    options.add_argument('--disable-gpu')\n",
    "    options.add_experimental_option(\"excludeSwitches\", [\"enable-automation\"])\n",
    "    options.add_experimental_option('useAutomationExtension', False)\n",
    "    options.add_argument('--ignore-certificate-errors')\n",
    "    options.add_argument('--ignore-ssl-errors')\n",
    "\n",
    "    driver = webdriver.Chrome(service=Service(ChromeDriverManager().install()), options = options)\n",
    "\n",
    "    return driver"
   ]
  },
  {
   "cell_type": "code",
   "execution_count": 3,
   "metadata": {},
   "outputs": [],
   "source": [
    "def select_city(driver):\n",
    "    \n",
    "    # Select Tab\n",
    "    (\n",
    "        driver.find_element(by=\"css selector\", value=\"div[class='levelwrap level1']\")\n",
    "        .find_elements(by=\"tag name\", value=\"li\")[1]\n",
    "        .find_element(by=\"tag name\", value=\"a\")\n",
    "        .click()\n",
    "    )\n",
    "\n",
    "    # Click Dropdown\n",
    "    dropdown = driver.find_element(by=\"css selector\", value=\"div[id*='_SehirSelector1_combo_wrapper']\")\n",
    "    dropdown.click()\n",
    "\n",
    "    # Select Option\n",
    "    option = dropdown.find_element(by=\"xpath\", value=f\"//div[contains(text(), 'İSTANBUL')]\")\n",
    "    option.click()\n",
    "\n",
    "    #  # Click Search\n",
    "    submit_button = driver.find_element(\n",
    "        by=\"css selector\", \n",
    "        value=\"table[class*='bilgiBankasiArama'] tr:last-child td:last-child input[id*='_btnSearch2']\"\n",
    "    )\n",
    "\n",
    "    driver.execute_script(\"arguments[0].click();\", submit_button)\n",
    "\n",
    "    return driver"
   ]
  },
  {
   "cell_type": "code",
   "execution_count": 4,
   "metadata": {},
   "outputs": [
    {
     "name": "stdout",
     "output_type": "stream",
     "text": [
      "\n",
      "Done!\n"
     ]
    }
   ],
   "source": [
    "stad_list = []\n",
    "url=\"https://www.tff.org/default.aspx?pageID=523\"\n",
    "driver=get_driver()\n",
    "driver.get(url)\n",
    "\n",
    "driver = select_city(driver=driver)\n",
    "\n",
    "cnt=0\n",
    "while cnt<2:\n",
    "    soup = BeautifulSoup(driver.page_source, \"lxml\")\n",
    "    rows = soup.select(\"table.MasterTable_TFF_Contents > tbody\")[0].find_all(\"tr\")\n",
    "    stad_list.extend([row.find_all(\"td\")[0].a.text for row in rows])\n",
    "\n",
    "    # Click next page\n",
    "    (\n",
    "        driver.find_element(by=\"tag name\", value=\"tfoot\")\n",
    "        .find_elements(by=\"tag name\", value=\"a\")[-1]\n",
    "        .click()\n",
    "    )\n",
    "\n",
    "    cnt+=1\n",
    "\n",
    "driver.quit()\n",
    "print('Done!')"
   ]
  },
  {
   "cell_type": "code",
   "execution_count": 5,
   "metadata": {},
   "outputs": [],
   "source": [
    "df = pd.DataFrame({\"stadium_names\" : stad_list})\n",
    "df.to_csv(\"tr_ist_stadiumns.csv\", index=False)"
   ]
  }
 ],
 "metadata": {
  "kernelspec": {
   "display_name": "base",
   "language": "python",
   "name": "python3"
  },
  "language_info": {
   "codemirror_mode": {
    "name": "ipython",
    "version": 3
   },
   "file_extension": ".py",
   "mimetype": "text/x-python",
   "name": "python",
   "nbconvert_exporter": "python",
   "pygments_lexer": "ipython3",
   "version": "3.9.13"
  },
  "orig_nbformat": 4
 },
 "nbformat": 4,
 "nbformat_minor": 2
}
