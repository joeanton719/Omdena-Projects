{
 "cells": [
  {
   "cell_type": "code",
   "execution_count": 1,
   "metadata": {},
   "outputs": [],
   "source": [
    "import requests_html\n",
    "import pandas as pd\n",
    "import re\n",
    "\n",
    "from bs4 import BeautifulSoup"
   ]
  },
  {
   "attachments": {},
   "cell_type": "markdown",
   "metadata": {},
   "source": [
    "### DATA SOURCE: https://www.timeanddate.com/holidays/turkey"
   ]
  },
  {
   "cell_type": "code",
   "execution_count": 2,
   "metadata": {},
   "outputs": [
    {
     "name": "stdout",
     "output_type": "stream",
     "text": [
      "Getting data for 2013\n",
      "Getting data for 2014\n",
      "Getting data for 2015\n",
      "Getting data for 2016\n",
      "Getting data for 2017\n",
      "Getting data for 2018\n",
      "Getting data for 2019\n",
      "Getting data for 2020\n",
      "Getting data for 2021\n",
      "Getting data for 2022\n",
      "Getting data for 2023\n"
     ]
    }
   ],
   "source": [
    "holiday_list = []\n",
    "\n",
    "r = requests_html.HTMLSession()\n",
    "headers = {'Accept-Language': 'en-US,en;q=0.5'}\n",
    "\n",
    "for year in range(2013, 2024):\n",
    "    print(f'Getting data for {year}')\n",
    "    html = r.get(f'https://www.timeanddate.com/holidays/turkey/{year}', headers=headers)\n",
    "    \n",
    "    if html.status_code==200:\n",
    "        \n",
    "        soup = BeautifulSoup(html.text, \"lxml\")\n",
    "        \n",
    "        tbl_rows = soup.find(name=\"table\", attrs={\"id\" : \"holidays-table\"}).\\\n",
    "                    find_all(name=\"tr\", attrs={'id' : re.compile(r'^tr\\d')})\n",
    "        \n",
    "        for row in tbl_rows:\n",
    "            holiday_list.append({\n",
    "                'date' : row.find('th').text + f' {year}',\n",
    "                'holiday_name' : row.find('a').text,\n",
    "                'holiday_type' : row.find_all('td')[-1].text\n",
    "            })"
   ]
  },
  {
   "cell_type": "code",
   "execution_count": 3,
   "metadata": {},
   "outputs": [],
   "source": [
    "holiday_df = pd.DataFrame(holiday_list)\n",
    "holiday_df['date'] = pd.to_datetime(holiday_df['date'])"
   ]
  },
  {
   "cell_type": "code",
   "execution_count": 4,
   "metadata": {},
   "outputs": [
    {
     "data": {
      "text/html": [
       "<div>\n",
       "<style scoped>\n",
       "    .dataframe tbody tr th:only-of-type {\n",
       "        vertical-align: middle;\n",
       "    }\n",
       "\n",
       "    .dataframe tbody tr th {\n",
       "        vertical-align: top;\n",
       "    }\n",
       "\n",
       "    .dataframe thead th {\n",
       "        text-align: right;\n",
       "    }\n",
       "</style>\n",
       "<table border=\"1\" class=\"dataframe\">\n",
       "  <thead>\n",
       "    <tr style=\"text-align: right;\">\n",
       "      <th></th>\n",
       "      <th>date</th>\n",
       "      <th>holiday_name</th>\n",
       "      <th>holiday_type</th>\n",
       "    </tr>\n",
       "  </thead>\n",
       "  <tbody>\n",
       "    <tr>\n",
       "      <th>0</th>\n",
       "      <td>2013-01-01</td>\n",
       "      <td>New Year's Day</td>\n",
       "      <td>National holiday</td>\n",
       "    </tr>\n",
       "    <tr>\n",
       "      <th>1</th>\n",
       "      <td>2013-03-20</td>\n",
       "      <td>March Equinox</td>\n",
       "      <td>Season</td>\n",
       "    </tr>\n",
       "    <tr>\n",
       "      <th>2</th>\n",
       "      <td>2013-04-23</td>\n",
       "      <td>National Sovereignty and Children's Day</td>\n",
       "      <td>National holiday</td>\n",
       "    </tr>\n",
       "    <tr>\n",
       "      <th>3</th>\n",
       "      <td>2013-05-01</td>\n",
       "      <td>Labor and Solidarity Day</td>\n",
       "      <td>National holiday</td>\n",
       "    </tr>\n",
       "    <tr>\n",
       "      <th>4</th>\n",
       "      <td>2013-05-19</td>\n",
       "      <td>Commemoration of Atatürk, Youth and Sports Day</td>\n",
       "      <td>National holiday</td>\n",
       "    </tr>\n",
       "    <tr>\n",
       "      <th>...</th>\n",
       "      <td>...</td>\n",
       "      <td>...</td>\n",
       "      <td>...</td>\n",
       "    </tr>\n",
       "    <tr>\n",
       "      <th>255</th>\n",
       "      <td>2023-10-28</td>\n",
       "      <td>Republic Day Eve</td>\n",
       "      <td>Half Day</td>\n",
       "    </tr>\n",
       "    <tr>\n",
       "      <th>256</th>\n",
       "      <td>2023-10-29</td>\n",
       "      <td>Republic Day</td>\n",
       "      <td>National holiday</td>\n",
       "    </tr>\n",
       "    <tr>\n",
       "      <th>257</th>\n",
       "      <td>2023-11-10</td>\n",
       "      <td>Ataturk Commemoration Day</td>\n",
       "      <td>Observance</td>\n",
       "    </tr>\n",
       "    <tr>\n",
       "      <th>258</th>\n",
       "      <td>2023-12-22</td>\n",
       "      <td>December Solstice</td>\n",
       "      <td>Season</td>\n",
       "    </tr>\n",
       "    <tr>\n",
       "      <th>259</th>\n",
       "      <td>2023-12-31</td>\n",
       "      <td>New Year's Eve</td>\n",
       "      <td>Observance</td>\n",
       "    </tr>\n",
       "  </tbody>\n",
       "</table>\n",
       "<p>260 rows × 3 columns</p>\n",
       "</div>"
      ],
      "text/plain": [
       "          date                                    holiday_name   \n",
       "0   2013-01-01                                  New Year's Day  \\\n",
       "1   2013-03-20                                   March Equinox   \n",
       "2   2013-04-23         National Sovereignty and Children's Day   \n",
       "3   2013-05-01                        Labor and Solidarity Day   \n",
       "4   2013-05-19  Commemoration of Atatürk, Youth and Sports Day   \n",
       "..         ...                                             ...   \n",
       "255 2023-10-28                                Republic Day Eve   \n",
       "256 2023-10-29                                    Republic Day   \n",
       "257 2023-11-10                       Ataturk Commemoration Day   \n",
       "258 2023-12-22                               December Solstice   \n",
       "259 2023-12-31                                  New Year's Eve   \n",
       "\n",
       "         holiday_type  \n",
       "0    National holiday  \n",
       "1              Season  \n",
       "2    National holiday  \n",
       "3    National holiday  \n",
       "4    National holiday  \n",
       "..                ...  \n",
       "255          Half Day  \n",
       "256  National holiday  \n",
       "257        Observance  \n",
       "258            Season  \n",
       "259        Observance  \n",
       "\n",
       "[260 rows x 3 columns]"
      ]
     },
     "execution_count": 4,
     "metadata": {},
     "output_type": "execute_result"
    }
   ],
   "source": [
    "holiday_df"
   ]
  },
  {
   "cell_type": "code",
   "execution_count": 5,
   "metadata": {},
   "outputs": [],
   "source": [
    "holiday_df.to_csv(\"tr_holidays_obs.csv\", index=False)"
   ]
  }
 ],
 "metadata": {
  "kernelspec": {
   "display_name": "base",
   "language": "python",
   "name": "python3"
  },
  "language_info": {
   "codemirror_mode": {
    "name": "ipython",
    "version": 3
   },
   "file_extension": ".py",
   "mimetype": "text/x-python",
   "name": "python",
   "nbconvert_exporter": "python",
   "pygments_lexer": "ipython3",
   "version": "3.9.13"
  },
  "orig_nbformat": 4
 },
 "nbformat": 4,
 "nbformat_minor": 2
}
