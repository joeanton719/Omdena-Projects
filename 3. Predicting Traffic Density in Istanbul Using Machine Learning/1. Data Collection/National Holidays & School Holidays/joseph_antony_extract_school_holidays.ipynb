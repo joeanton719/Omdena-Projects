{
 "cells": [
  {
   "cell_type": "code",
   "execution_count": 4,
   "metadata": {},
   "outputs": [],
   "source": [
    "import requests\n",
    "from bs4 import BeautifulSoup\n",
    "import pandas as pd"
   ]
  },
  {
   "attachments": {},
   "cell_type": "markdown",
   "metadata": {},
   "source": [
    "### DATA SOURCE: https://www.feiertagskalender.ch/ferien.php?geo=3539&jahr=2020&klasse=0&hl=en"
   ]
  },
  {
   "cell_type": "code",
   "execution_count": 5,
   "metadata": {},
   "outputs": [],
   "source": [
    "def parse_data(year):\n",
    "    print(year)\n",
    "\n",
    "    url=f\"https://www.feiertagskalender.ch/ferien.php?geo=3539&jahr={year}&klasse=0&hl=en\"\n",
    "\n",
    "    r = requests.get(url)\n",
    "    soup=BeautifulSoup(r.text, \"lxml\")\n",
    "\n",
    "    rows = soup.find(\"table\").find_all(\"tr\")[1:]\n",
    "\n",
    "    data = []\n",
    "    for row in rows:\n",
    "        sub_rows=row.find_all(\"td\")\n",
    "\n",
    "        data.append({\n",
    "            \"start\" : pd.to_datetime(sub_rows[0].text, dayfirst=True),\n",
    "            \"end\" : pd.to_datetime(sub_rows[3].text.replace(\" *\", \"\"), dayfirst=True),\n",
    "            \"reason\" : sub_rows[-2].text + \" \" + sub_rows[-1].text\n",
    "        })\n",
    "\n",
    "    return pd.DataFrame(data)"
   ]
  },
  {
   "cell_type": "code",
   "execution_count": 6,
   "metadata": {},
   "outputs": [
    {
     "name": "stdout",
     "output_type": "stream",
     "text": [
      "2020\n",
      "2021\n",
      "2022\n",
      "2023\n"
     ]
    }
   ],
   "source": [
    "df = pd.concat((parse_data(year=year) for year in range(2020, 2024)), ignore_index=True)"
   ]
  },
  {
   "cell_type": "code",
   "execution_count": 18,
   "metadata": {},
   "outputs": [],
   "source": [
    "df['reason'] = (\n",
    "    df['reason'].str.strip()\n",
    "    .replace([\"Novemberferien\", \n",
    "              \"Tag der Republik Türkei\", \n",
    "              \"Feiertag der Jugend\", \n",
    "              \"Jugend und Sporttag\", \n",
    "              \"Feiertag der Nationalen Souveränität\",\n",
    "              \"Nationale Souveränität und des Kindes\", \n",
    "              \"Festival of Breaking the Fast ('Id al Fitr)\", \n",
    "              \"Fest des Fastenbrechens\", \n",
    "              \"Novemberferien Provisional\"],\n",
    "              [\"November vacation\", \n",
    "               \"Republic of Türkiye Day\", \n",
    "               \"holiday of youth\", \n",
    "               \"Youth and Sports Day\", \n",
    "               \"National Sovereignty Holiday\",\n",
    "               \"National sovereignty and the child\", \n",
    "               \"Eid Holidays\", \n",
    "               \"Feast of the Breaking of the Fast\", \n",
    "               \"November vacation\"])\n",
    "    .replace(\" Provisional\", \"\", regex=True)\n",
    ")"
   ]
  },
  {
   "cell_type": "code",
   "execution_count": 20,
   "metadata": {},
   "outputs": [],
   "source": [
    "df.to_csv(\"tr_ist_school_holidays.csv\", index=False)"
   ]
  },
  {
   "cell_type": "code",
   "execution_count": null,
   "metadata": {},
   "outputs": [],
   "source": []
  }
 ],
 "metadata": {
  "kernelspec": {
   "display_name": "base",
   "language": "python",
   "name": "python3"
  },
  "language_info": {
   "codemirror_mode": {
    "name": "ipython",
    "version": 3
   },
   "file_extension": ".py",
   "mimetype": "text/x-python",
   "name": "python",
   "nbconvert_exporter": "python",
   "pygments_lexer": "ipython3",
   "version": "3.9.13"
  },
  "orig_nbformat": 4
 },
 "nbformat": 4,
 "nbformat_minor": 2
}
