{
 "cells": [
  {
   "cell_type": "code",
   "execution_count": 1,
   "metadata": {},
   "outputs": [],
   "source": [
    "import warnings\n",
    "import pandas as pd\n",
    "import numpy as np\n",
    "\n",
    "warnings.filterwarnings(\"ignore\")"
   ]
  },
  {
   "attachments": {},
   "cell_type": "markdown",
   "metadata": {},
   "source": [
    "#### This notebooks contains data pre-processing of merged traffic density columns using Pandas. \n",
    "##### * First, we will remove data for all GEOHASH that has less than 28k hours of data.\n",
    "##### * Then, we will transform the dataset to ensure every remaining GEOHASH location has 29,184 hours of data points. \n",
    "\n",
    "##### At present, for each GEOHASH, the DATE_TIME column is not in propert hour frequency. An exmaple will be shown soon.\n"
   ]
  },
  {
   "cell_type": "code",
   "execution_count": 2,
   "metadata": {},
   "outputs": [
    {
     "name": "stdout",
     "output_type": "stream",
     "text": [
      "Wall time: 19.5 s\n"
     ]
    }
   ],
   "source": [
    "%%time\n",
    "\n",
    "# Read Parquet file and choose only selected columns (Ignore date time features for now to save memory)\n",
    "selected_cols=['DATE_TIME', 'LATITUDE', 'LONGITUDE', 'GEOHASH', 'MINIMUM_SPEED', 'MAXIMUM_SPEED', 'AVERAGE_SPEED', 'NUMBER_OF_VEHICLES']\n",
    "\n",
    "raw_df = (\n",
    "    pd.read_parquet(\"datasets/01_tr_density/ist_traffic_density_rev01.gz\", columns=selected_cols)\n",
    ")"
   ]
  },
  {
   "cell_type": "code",
   "execution_count": 3,
   "metadata": {},
   "outputs": [
    {
     "name": "stdout",
     "output_type": "stream",
     "text": [
      "Wall time: 1.56 s\n"
     ]
    }
   ],
   "source": [
    "%%time\n",
    "\n",
    "# Creating a copy to save time in case the original dataset is needed and to avoid using pd.read_parquet due to the time taken to read the file.\n",
    "all_df=raw_df.copy()"
   ]
  },
  {
   "cell_type": "code",
   "execution_count": 4,
   "metadata": {},
   "outputs": [
    {
     "name": "stdout",
     "output_type": "stream",
     "text": [
      "<class 'pandas.core.frame.DataFrame'>\n",
      "RangeIndex: 66146858 entries, 0 to 66146857\n",
      "Data columns (total 8 columns):\n",
      " #   Column              Dtype         \n",
      "---  ------              -----         \n",
      " 0   DATE_TIME           datetime64[ns]\n",
      " 1   LATITUDE            float32       \n",
      " 2   LONGITUDE           float32       \n",
      " 3   GEOHASH             object        \n",
      " 4   MINIMUM_SPEED       uint8         \n",
      " 5   MAXIMUM_SPEED       uint8         \n",
      " 6   AVERAGE_SPEED       uint8         \n",
      " 7   NUMBER_OF_VEHICLES  uint16        \n",
      "dtypes: datetime64[ns](1), float32(2), object(1), uint16(1), uint8(3)\n",
      "memory usage: 1.8+ GB\n"
     ]
    }
   ],
   "source": [
    "all_df.info()"
   ]
  },
  {
   "cell_type": "code",
   "execution_count": 5,
   "metadata": {},
   "outputs": [
    {
     "data": {
      "text/html": [
       "<div>\n",
       "<style scoped>\n",
       "    .dataframe tbody tr th:only-of-type {\n",
       "        vertical-align: middle;\n",
       "    }\n",
       "\n",
       "    .dataframe tbody tr th {\n",
       "        vertical-align: top;\n",
       "    }\n",
       "\n",
       "    .dataframe thead th {\n",
       "        text-align: right;\n",
       "    }\n",
       "</style>\n",
       "<table border=\"1\" class=\"dataframe\">\n",
       "  <thead>\n",
       "    <tr style=\"text-align: right;\">\n",
       "      <th></th>\n",
       "      <th>LATITUDE</th>\n",
       "      <th>LONGITUDE</th>\n",
       "      <th>GEOHASH</th>\n",
       "      <th>MINIMUM_SPEED</th>\n",
       "      <th>MAXIMUM_SPEED</th>\n",
       "      <th>AVERAGE_SPEED</th>\n",
       "      <th>NUMBER_OF_VEHICLES</th>\n",
       "    </tr>\n",
       "    <tr>\n",
       "      <th>DATE_TIME</th>\n",
       "      <th></th>\n",
       "      <th></th>\n",
       "      <th></th>\n",
       "      <th></th>\n",
       "      <th></th>\n",
       "      <th></th>\n",
       "      <th></th>\n",
       "    </tr>\n",
       "  </thead>\n",
       "  <tbody>\n",
       "    <tr>\n",
       "      <th>2020-01-01 00:00:00</th>\n",
       "      <td>41.053162</td>\n",
       "      <td>29.09729</td>\n",
       "      <td>sxk9w1</td>\n",
       "      <td>46</td>\n",
       "      <td>7</td>\n",
       "      <td>24</td>\n",
       "      <td>7</td>\n",
       "    </tr>\n",
       "    <tr>\n",
       "      <th>2020-01-01 01:00:00</th>\n",
       "      <td>41.053162</td>\n",
       "      <td>29.09729</td>\n",
       "      <td>sxk9w1</td>\n",
       "      <td>25</td>\n",
       "      <td>17</td>\n",
       "      <td>21</td>\n",
       "      <td>2</td>\n",
       "    </tr>\n",
       "    <tr>\n",
       "      <th>2020-01-01 02:00:00</th>\n",
       "      <td>41.053162</td>\n",
       "      <td>29.09729</td>\n",
       "      <td>sxk9w1</td>\n",
       "      <td>44</td>\n",
       "      <td>15</td>\n",
       "      <td>29</td>\n",
       "      <td>5</td>\n",
       "    </tr>\n",
       "    <tr>\n",
       "      <th>2020-01-01 04:00:00</th>\n",
       "      <td>41.053162</td>\n",
       "      <td>29.09729</td>\n",
       "      <td>sxk9w1</td>\n",
       "      <td>61</td>\n",
       "      <td>9</td>\n",
       "      <td>33</td>\n",
       "      <td>5</td>\n",
       "    </tr>\n",
       "    <tr>\n",
       "      <th>2020-01-01 05:00:00</th>\n",
       "      <td>41.053162</td>\n",
       "      <td>29.09729</td>\n",
       "      <td>sxk9w1</td>\n",
       "      <td>42</td>\n",
       "      <td>8</td>\n",
       "      <td>26</td>\n",
       "      <td>2</td>\n",
       "    </tr>\n",
       "  </tbody>\n",
       "</table>\n",
       "</div>"
      ],
      "text/plain": [
       "                      LATITUDE  LONGITUDE GEOHASH  MINIMUM_SPEED   \n",
       "DATE_TIME                                                          \n",
       "2020-01-01 00:00:00  41.053162   29.09729  sxk9w1             46  \\\n",
       "2020-01-01 01:00:00  41.053162   29.09729  sxk9w1             25   \n",
       "2020-01-01 02:00:00  41.053162   29.09729  sxk9w1             44   \n",
       "2020-01-01 04:00:00  41.053162   29.09729  sxk9w1             61   \n",
       "2020-01-01 05:00:00  41.053162   29.09729  sxk9w1             42   \n",
       "\n",
       "                     MAXIMUM_SPEED  AVERAGE_SPEED  NUMBER_OF_VEHICLES  \n",
       "DATE_TIME                                                              \n",
       "2020-01-01 00:00:00              7             24                   7  \n",
       "2020-01-01 01:00:00             17             21                   2  \n",
       "2020-01-01 02:00:00             15             29                   5  \n",
       "2020-01-01 04:00:00              9             33                   5  \n",
       "2020-01-01 05:00:00              8             26                   2  "
      ]
     },
     "execution_count": 5,
     "metadata": {},
     "output_type": "execute_result"
    }
   ],
   "source": [
    "# Showing a sample of the dataset\n",
    "all_df.query(\"GEOHASH=='sxk9w1'\").set_index('DATE_TIME').head()"
   ]
  },
  {
   "attachments": {},
   "cell_type": "markdown",
   "metadata": {},
   "source": [
    "#### The above sample of the datasets shows the first 5 rows of GEOHASH='sxk9w1'. Looking at the DATE_TIME column, we can see there is no row for 03:00 hours. Similarly for other GEOHASH, there are multiple missing hours of data. Sometimes there are even missing data for whole days. \n",
    "\n",
    "#### Later, we will ensure all GEOHASH has 29,184 rows."
   ]
  },
  {
   "cell_type": "code",
   "execution_count": 6,
   "metadata": {},
   "outputs": [
    {
     "name": "stdout",
     "output_type": "stream",
     "text": [
      "Wall time: 7.3 s\n"
     ]
    }
   ],
   "source": [
    "%%time\n",
    "# Creating a seperate dataframe that shows all unique GEOHASH and the cooresponding count of rows. \n",
    "# Followed by creating percentage of rows available compared to total number of hours from Jan 2020 to April 2023 (29,184 hours)\n",
    "\n",
    "full_hours = 29184\n",
    "\n",
    "geohash_hrs = all_df.groupby(\"GEOHASH\", as_index=False).size()\n",
    "geohash_hrs['perc'] = np.round(100*(geohash_hrs['size']/full_hours), 3)"
   ]
  },
  {
   "cell_type": "code",
   "execution_count": 7,
   "metadata": {},
   "outputs": [
    {
     "name": "stdout",
     "output_type": "stream",
     "text": [
      "Wall time: 0 ns\n"
     ]
    },
    {
     "data": {
      "text/html": [
       "<div>\n",
       "<style scoped>\n",
       "    .dataframe tbody tr th:only-of-type {\n",
       "        vertical-align: middle;\n",
       "    }\n",
       "\n",
       "    .dataframe tbody tr th {\n",
       "        vertical-align: top;\n",
       "    }\n",
       "\n",
       "    .dataframe thead th {\n",
       "        text-align: right;\n",
       "    }\n",
       "</style>\n",
       "<table border=\"1\" class=\"dataframe\">\n",
       "  <thead>\n",
       "    <tr style=\"text-align: right;\">\n",
       "      <th></th>\n",
       "      <th>GEOHASH</th>\n",
       "      <th>size</th>\n",
       "      <th>perc</th>\n",
       "    </tr>\n",
       "  </thead>\n",
       "  <tbody>\n",
       "    <tr>\n",
       "      <th>3318</th>\n",
       "      <td>sxk9w1</td>\n",
       "      <td>28017</td>\n",
       "      <td>96.001</td>\n",
       "    </tr>\n",
       "    <tr>\n",
       "      <th>1025</th>\n",
       "      <td>sxk3he</td>\n",
       "      <td>28017</td>\n",
       "      <td>96.001</td>\n",
       "    </tr>\n",
       "    <tr>\n",
       "      <th>4473</th>\n",
       "      <td>sxkd8d</td>\n",
       "      <td>28018</td>\n",
       "      <td>96.005</td>\n",
       "    </tr>\n",
       "    <tr>\n",
       "      <th>3235</th>\n",
       "      <td>sxk9tb</td>\n",
       "      <td>28025</td>\n",
       "      <td>96.029</td>\n",
       "    </tr>\n",
       "    <tr>\n",
       "      <th>3239</th>\n",
       "      <td>sxk9tf</td>\n",
       "      <td>28026</td>\n",
       "      <td>96.032</td>\n",
       "    </tr>\n",
       "    <tr>\n",
       "      <th>...</th>\n",
       "      <td>...</td>\n",
       "      <td>...</td>\n",
       "      <td>...</td>\n",
       "    </tr>\n",
       "    <tr>\n",
       "      <th>1198</th>\n",
       "      <td>sxk3rs</td>\n",
       "      <td>28514</td>\n",
       "      <td>97.704</td>\n",
       "    </tr>\n",
       "    <tr>\n",
       "      <th>1342</th>\n",
       "      <td>sxk3xe</td>\n",
       "      <td>28514</td>\n",
       "      <td>97.704</td>\n",
       "    </tr>\n",
       "    <tr>\n",
       "      <th>1183</th>\n",
       "      <td>sxk3r9</td>\n",
       "      <td>28515</td>\n",
       "      <td>97.708</td>\n",
       "    </tr>\n",
       "    <tr>\n",
       "      <th>1119</th>\n",
       "      <td>sxk3nk</td>\n",
       "      <td>28515</td>\n",
       "      <td>97.708</td>\n",
       "    </tr>\n",
       "    <tr>\n",
       "      <th>1121</th>\n",
       "      <td>sxk3nt</td>\n",
       "      <td>28516</td>\n",
       "      <td>97.711</td>\n",
       "    </tr>\n",
       "  </tbody>\n",
       "</table>\n",
       "<p>1813 rows × 3 columns</p>\n",
       "</div>"
      ],
      "text/plain": [
       "     GEOHASH   size    perc\n",
       "3318  sxk9w1  28017  96.001\n",
       "1025  sxk3he  28017  96.001\n",
       "4473  sxkd8d  28018  96.005\n",
       "3235  sxk9tb  28025  96.029\n",
       "3239  sxk9tf  28026  96.032\n",
       "...      ...    ...     ...\n",
       "1198  sxk3rs  28514  97.704\n",
       "1342  sxk3xe  28514  97.704\n",
       "1183  sxk3r9  28515  97.708\n",
       "1119  sxk3nk  28515  97.708\n",
       "1121  sxk3nt  28516  97.711\n",
       "\n",
       "[1813 rows x 3 columns]"
      ]
     },
     "execution_count": 7,
     "metadata": {},
     "output_type": "execute_result"
    }
   ],
   "source": [
    "%%time\n",
    "# Checking GEOHASH with atleast 96% non null rows. The corresponsing number of available data is displayed in the `size` column\n",
    "geohash_hrs[geohash_hrs['perc'].ge(96)].sort_values('perc')"
   ]
  },
  {
   "cell_type": "code",
   "execution_count": 8,
   "metadata": {},
   "outputs": [
    {
     "name": "stdout",
     "output_type": "stream",
     "text": [
      "Wall time: 0 ns\n"
     ]
    }
   ],
   "source": [
    "%%time\n",
    "# Saving those GEOHASH with 96% hours of data\n",
    "selected_gh = geohash_hrs.loc[geohash_hrs['perc'].ge(96), 'GEOHASH'].values"
   ]
  },
  {
   "cell_type": "code",
   "execution_count": 9,
   "metadata": {},
   "outputs": [
    {
     "name": "stdout",
     "output_type": "stream",
     "text": [
      "Wall time: 30.9 s\n"
     ]
    }
   ],
   "source": [
    "%%time\n",
    "# Filtering out GEOHASH\n",
    "filtered_df = (\n",
    "    all_df.loc[all_df['GEOHASH'].isin(selected_gh)] # select only GEOHASH present in selected_gh variable\n",
    "    .sort_values(['DATE_TIME', 'GEOHASH'])\n",
    ")"
   ]
  },
  {
   "cell_type": "code",
   "execution_count": 10,
   "metadata": {},
   "outputs": [
    {
     "data": {
      "text/plain": [
       "51548379"
      ]
     },
     "execution_count": 10,
     "metadata": {},
     "output_type": "execute_result"
    }
   ],
   "source": [
    "# Number of rows reduced from 66+ million records to 51.5 million records\n",
    "# The number of rows in the filtered dataset will increase again laterwards when ensuring the DATE_TIME for all GEOHASH is of hourly frequency\n",
    "len(filtered_df)"
   ]
  },
  {
   "cell_type": "code",
   "execution_count": 11,
   "metadata": {},
   "outputs": [
    {
     "data": {
      "text/plain": [
       "GEOHASH\n",
       "sx7ckc   2020-01-01 02:00:00\n",
       "sx7cm5   2020-01-01 02:00:00\n",
       "sx7chk   2020-01-01 00:00:00\n",
       "sxk9pj   2020-01-01 00:00:00\n",
       "sxk9pz   2020-01-01 00:00:00\n",
       "Name: DATE_TIME, dtype: datetime64[ns]"
      ]
     },
     "execution_count": 11,
     "metadata": {},
     "output_type": "execute_result"
    }
   ],
   "source": [
    "# Checking whether all GEOHASH has start DATE_TIME as \"2020-01-01 00:00:00\"\n",
    "(\n",
    "    filtered_df.groupby('GEOHASH')['DATE_TIME'].first()\n",
    "    .sort_values(ascending=False)\n",
    "    .head()\n",
    ")"
   ]
  },
  {
   "attachments": {},
   "cell_type": "markdown",
   "metadata": {},
   "source": [
    "#### the above dataframe shows that 2 GEOHASH has start datetime at 02:00 hours instead of 00:00 hours."
   ]
  },
  {
   "cell_type": "code",
   "execution_count": 12,
   "metadata": {},
   "outputs": [
    {
     "data": {
      "text/html": [
       "<div>\n",
       "<style scoped>\n",
       "    .dataframe tbody tr th:only-of-type {\n",
       "        vertical-align: middle;\n",
       "    }\n",
       "\n",
       "    .dataframe tbody tr th {\n",
       "        vertical-align: top;\n",
       "    }\n",
       "\n",
       "    .dataframe thead th {\n",
       "        text-align: right;\n",
       "    }\n",
       "</style>\n",
       "<table border=\"1\" class=\"dataframe\">\n",
       "  <thead>\n",
       "    <tr style=\"text-align: right;\">\n",
       "      <th></th>\n",
       "      <th>GEOHASH</th>\n",
       "      <th>LATITUDE</th>\n",
       "      <th>LONGITUDE</th>\n",
       "    </tr>\n",
       "  </thead>\n",
       "  <tbody>\n",
       "    <tr>\n",
       "      <th>4611</th>\n",
       "      <td>sx7ckc</td>\n",
       "      <td>41.009216</td>\n",
       "      <td>27.987671</td>\n",
       "    </tr>\n",
       "    <tr>\n",
       "      <th>5319</th>\n",
       "      <td>sx7cm5</td>\n",
       "      <td>41.020203</td>\n",
       "      <td>27.998657</td>\n",
       "    </tr>\n",
       "  </tbody>\n",
       "</table>\n",
       "</div>"
      ],
      "text/plain": [
       "     GEOHASH   LATITUDE  LONGITUDE\n",
       "4611  sx7ckc  41.009216  27.987671\n",
       "5319  sx7cm5  41.020203  27.998657"
      ]
     },
     "execution_count": 12,
     "metadata": {},
     "output_type": "execute_result"
    }
   ],
   "source": [
    "filtered_df.loc[filtered_df['GEOHASH'].isin([\"sx7ckc\", \"sx7cm5\"]), ['GEOHASH', 'LATITUDE', 'LONGITUDE']].drop_duplicates()"
   ]
  },
  {
   "cell_type": "code",
   "execution_count": 13,
   "metadata": {},
   "outputs": [
    {
     "data": {
      "text/html": [
       "<div>\n",
       "<style scoped>\n",
       "    .dataframe tbody tr th:only-of-type {\n",
       "        vertical-align: middle;\n",
       "    }\n",
       "\n",
       "    .dataframe tbody tr th {\n",
       "        vertical-align: top;\n",
       "    }\n",
       "\n",
       "    .dataframe thead th {\n",
       "        text-align: right;\n",
       "    }\n",
       "</style>\n",
       "<table border=\"1\" class=\"dataframe\">\n",
       "  <thead>\n",
       "    <tr style=\"text-align: right;\">\n",
       "      <th></th>\n",
       "      <th>DATE_TIME</th>\n",
       "      <th>LATITUDE</th>\n",
       "      <th>LONGITUDE</th>\n",
       "      <th>GEOHASH</th>\n",
       "      <th>MINIMUM_SPEED</th>\n",
       "      <th>MAXIMUM_SPEED</th>\n",
       "      <th>AVERAGE_SPEED</th>\n",
       "      <th>NUMBER_OF_VEHICLES</th>\n",
       "    </tr>\n",
       "  </thead>\n",
       "  <tbody>\n",
       "    <tr>\n",
       "      <th>1367</th>\n",
       "      <td>2020-01-01</td>\n",
       "      <td>40.981750</td>\n",
       "      <td>27.965698</td>\n",
       "      <td>sx7chk</td>\n",
       "      <td>112</td>\n",
       "      <td>86</td>\n",
       "      <td>99</td>\n",
       "      <td>2</td>\n",
       "    </tr>\n",
       "    <tr>\n",
       "      <th>1750</th>\n",
       "      <td>2020-01-01</td>\n",
       "      <td>40.987244</td>\n",
       "      <td>27.965698</td>\n",
       "      <td>sx7chm</td>\n",
       "      <td>124</td>\n",
       "      <td>63</td>\n",
       "      <td>92</td>\n",
       "      <td>3</td>\n",
       "    </tr>\n",
       "    <tr>\n",
       "      <th>471</th>\n",
       "      <td>2020-01-01</td>\n",
       "      <td>40.987244</td>\n",
       "      <td>27.976685</td>\n",
       "      <td>sx7cht</td>\n",
       "      <td>103</td>\n",
       "      <td>17</td>\n",
       "      <td>42</td>\n",
       "      <td>3</td>\n",
       "    </tr>\n",
       "    <tr>\n",
       "      <th>1406</th>\n",
       "      <td>2020-01-01</td>\n",
       "      <td>40.992737</td>\n",
       "      <td>27.976685</td>\n",
       "      <td>sx7chw</td>\n",
       "      <td>117</td>\n",
       "      <td>26</td>\n",
       "      <td>76</td>\n",
       "      <td>6</td>\n",
       "    </tr>\n",
       "    <tr>\n",
       "      <th>1645</th>\n",
       "      <td>2020-01-01</td>\n",
       "      <td>40.998230</td>\n",
       "      <td>27.976685</td>\n",
       "      <td>sx7chx</td>\n",
       "      <td>139</td>\n",
       "      <td>23</td>\n",
       "      <td>81</td>\n",
       "      <td>5</td>\n",
       "    </tr>\n",
       "  </tbody>\n",
       "</table>\n",
       "</div>"
      ],
      "text/plain": [
       "      DATE_TIME   LATITUDE  LONGITUDE GEOHASH  MINIMUM_SPEED  MAXIMUM_SPEED   \n",
       "1367 2020-01-01  40.981750  27.965698  sx7chk            112             86  \\\n",
       "1750 2020-01-01  40.987244  27.965698  sx7chm            124             63   \n",
       "471  2020-01-01  40.987244  27.976685  sx7cht            103             17   \n",
       "1406 2020-01-01  40.992737  27.976685  sx7chw            117             26   \n",
       "1645 2020-01-01  40.998230  27.976685  sx7chx            139             23   \n",
       "\n",
       "      AVERAGE_SPEED  NUMBER_OF_VEHICLES  \n",
       "1367             99                   2  \n",
       "1750             92                   3  \n",
       "471              42                   3  \n",
       "1406             76                   6  \n",
       "1645             81                   5  "
      ]
     },
     "execution_count": 13,
     "metadata": {},
     "output_type": "execute_result"
    }
   ],
   "source": [
    "filtered_df.head()"
   ]
  },
  {
   "attachments": {},
   "cell_type": "markdown",
   "metadata": {},
   "source": [
    "##### Creating a separate dataframe with the required rows and append to the filtered_df."
   ]
  },
  {
   "cell_type": "code",
   "execution_count": 14,
   "metadata": {},
   "outputs": [
    {
     "data": {
      "text/html": [
       "<div>\n",
       "<style scoped>\n",
       "    .dataframe tbody tr th:only-of-type {\n",
       "        vertical-align: middle;\n",
       "    }\n",
       "\n",
       "    .dataframe tbody tr th {\n",
       "        vertical-align: top;\n",
       "    }\n",
       "\n",
       "    .dataframe thead th {\n",
       "        text-align: right;\n",
       "    }\n",
       "</style>\n",
       "<table border=\"1\" class=\"dataframe\">\n",
       "  <thead>\n",
       "    <tr style=\"text-align: right;\">\n",
       "      <th></th>\n",
       "      <th>DATE_TIME</th>\n",
       "      <th>LATITUDE</th>\n",
       "      <th>LONGITUDE</th>\n",
       "      <th>GEOHASH</th>\n",
       "    </tr>\n",
       "  </thead>\n",
       "  <tbody>\n",
       "    <tr>\n",
       "      <th>0</th>\n",
       "      <td>2020-01-01 00:00:00</td>\n",
       "      <td>41.009216</td>\n",
       "      <td>27.987671</td>\n",
       "      <td>sx7ckc</td>\n",
       "    </tr>\n",
       "    <tr>\n",
       "      <th>1</th>\n",
       "      <td>2020-01-01 01:00:00</td>\n",
       "      <td>41.009216</td>\n",
       "      <td>27.987671</td>\n",
       "      <td>sx7ckc</td>\n",
       "    </tr>\n",
       "    <tr>\n",
       "      <th>2</th>\n",
       "      <td>2020-01-01 00:00:00</td>\n",
       "      <td>41.020203</td>\n",
       "      <td>27.998657</td>\n",
       "      <td>sx7cm5</td>\n",
       "    </tr>\n",
       "    <tr>\n",
       "      <th>3</th>\n",
       "      <td>2020-01-01 01:00:00</td>\n",
       "      <td>41.020203</td>\n",
       "      <td>27.998657</td>\n",
       "      <td>sx7cm5</td>\n",
       "    </tr>\n",
       "  </tbody>\n",
       "</table>\n",
       "</div>"
      ],
      "text/plain": [
       "            DATE_TIME   LATITUDE  LONGITUDE GEOHASH\n",
       "0 2020-01-01 00:00:00  41.009216  27.987671  sx7ckc\n",
       "1 2020-01-01 01:00:00  41.009216  27.987671  sx7ckc\n",
       "2 2020-01-01 00:00:00  41.020203  27.998657  sx7cm5\n",
       "3 2020-01-01 01:00:00  41.020203  27.998657  sx7cm5"
      ]
     },
     "execution_count": 14,
     "metadata": {},
     "output_type": "execute_result"
    }
   ],
   "source": [
    "extra_rows = []\n",
    "\n",
    "for gh, lat, lon in zip([\"sx7ckc\", \"sx7cm5\"], [41.009216, 41.020203], [27.987671, 27.998657]):\n",
    "    for dt in [\"2020-01-01 00:00:00\", \"2020-01-01 01:00:00\"]:\n",
    "        extra_rows.append({\n",
    "            \"DATE_TIME\" : pd.to_datetime(dt),\n",
    "            \"LATITUDE\" : lat,\n",
    "            \"LONGITUDE\" : lon,\n",
    "            \"GEOHASH\" : gh\n",
    "        })\n",
    "    \n",
    "extra_rows_df = pd.DataFrame(extra_rows)\n",
    "extra_rows_df"
   ]
  },
  {
   "cell_type": "code",
   "execution_count": 15,
   "metadata": {},
   "outputs": [],
   "source": [
    "filtered_df2 = pd.concat([filtered_df, extra_rows_df], ignore_index=True)"
   ]
  },
  {
   "cell_type": "code",
   "execution_count": 16,
   "metadata": {},
   "outputs": [
    {
     "name": "stdout",
     "output_type": "stream",
     "text": [
      "Wall time: 2min 23s\n"
     ]
    }
   ],
   "source": [
    "%%time\n",
    "# Here we will transform the dataset to ensure hourly frequency across all GEOHASH. \n",
    "# There will be null values for some of the rows as a result. These will be filled in using appropriate methods later.\n",
    "\n",
    "df = (\n",
    "    filtered_df2.set_index('DATE_TIME') # set DATE_TIME as inde so that resampling can be done\n",
    "    .groupby('GEOHASH') \n",
    "    .resample('H').sum(min_count=1) # ensuring all rows for each GEOHASH is oh hour 1 hour. Ensure to keep null values as it is (no filling null values)\n",
    "    .drop('GEOHASH', axis=1) # an extra GEOHASH column in created as a result. Drop it.\n",
    "    .reset_index() # To retain the GEOHASH and DATE_TIME columns\n",
    "    .assign(LATITUDE=lambda x: x['LATITUDE'].ffill(), \n",
    "            LONGITUDE=lambda x: x['LONGITUDE'].ffill()) # Fill any missing rows in the coords column using forward fill.\n",
    ")"
   ]
  },
  {
   "cell_type": "code",
   "execution_count": 17,
   "metadata": {},
   "outputs": [
    {
     "data": {
      "text/html": [
       "<div>\n",
       "<style scoped>\n",
       "    .dataframe tbody tr th:only-of-type {\n",
       "        vertical-align: middle;\n",
       "    }\n",
       "\n",
       "    .dataframe tbody tr th {\n",
       "        vertical-align: top;\n",
       "    }\n",
       "\n",
       "    .dataframe thead th {\n",
       "        text-align: right;\n",
       "    }\n",
       "</style>\n",
       "<table border=\"1\" class=\"dataframe\">\n",
       "  <thead>\n",
       "    <tr style=\"text-align: right;\">\n",
       "      <th></th>\n",
       "      <th>GEOHASH</th>\n",
       "      <th>DATE_TIME</th>\n",
       "      <th>LATITUDE</th>\n",
       "      <th>LONGITUDE</th>\n",
       "      <th>MINIMUM_SPEED</th>\n",
       "      <th>MAXIMUM_SPEED</th>\n",
       "      <th>AVERAGE_SPEED</th>\n",
       "      <th>NUMBER_OF_VEHICLES</th>\n",
       "    </tr>\n",
       "  </thead>\n",
       "  <tbody>\n",
       "    <tr>\n",
       "      <th>0</th>\n",
       "      <td>sx7chk</td>\n",
       "      <td>2020-01-01 00:00:00</td>\n",
       "      <td>40.981750</td>\n",
       "      <td>27.965698</td>\n",
       "      <td>112.0</td>\n",
       "      <td>86.0</td>\n",
       "      <td>99.0</td>\n",
       "      <td>2.0</td>\n",
       "    </tr>\n",
       "    <tr>\n",
       "      <th>1</th>\n",
       "      <td>sx7chk</td>\n",
       "      <td>2020-01-01 01:00:00</td>\n",
       "      <td>40.981750</td>\n",
       "      <td>27.965698</td>\n",
       "      <td>98.0</td>\n",
       "      <td>98.0</td>\n",
       "      <td>98.0</td>\n",
       "      <td>1.0</td>\n",
       "    </tr>\n",
       "    <tr>\n",
       "      <th>2</th>\n",
       "      <td>sx7chk</td>\n",
       "      <td>2020-01-01 02:00:00</td>\n",
       "      <td>40.981750</td>\n",
       "      <td>27.965698</td>\n",
       "      <td>141.0</td>\n",
       "      <td>60.0</td>\n",
       "      <td>92.0</td>\n",
       "      <td>3.0</td>\n",
       "    </tr>\n",
       "    <tr>\n",
       "      <th>3</th>\n",
       "      <td>sx7chk</td>\n",
       "      <td>2020-01-01 03:00:00</td>\n",
       "      <td>40.981750</td>\n",
       "      <td>27.965698</td>\n",
       "      <td>100.0</td>\n",
       "      <td>79.0</td>\n",
       "      <td>81.0</td>\n",
       "      <td>2.0</td>\n",
       "    </tr>\n",
       "    <tr>\n",
       "      <th>4</th>\n",
       "      <td>sx7chk</td>\n",
       "      <td>2020-01-01 04:00:00</td>\n",
       "      <td>40.981750</td>\n",
       "      <td>27.965698</td>\n",
       "      <td>80.0</td>\n",
       "      <td>64.0</td>\n",
       "      <td>69.0</td>\n",
       "      <td>2.0</td>\n",
       "    </tr>\n",
       "    <tr>\n",
       "      <th>...</th>\n",
       "      <td>...</td>\n",
       "      <td>...</td>\n",
       "      <td>...</td>\n",
       "      <td>...</td>\n",
       "      <td>...</td>\n",
       "      <td>...</td>\n",
       "      <td>...</td>\n",
       "      <td>...</td>\n",
       "    </tr>\n",
       "    <tr>\n",
       "      <th>52910587</th>\n",
       "      <td>sxkf45</td>\n",
       "      <td>2023-04-30 19:00:00</td>\n",
       "      <td>41.152039</td>\n",
       "      <td>29.273071</td>\n",
       "      <td>171.0</td>\n",
       "      <td>69.0</td>\n",
       "      <td>102.0</td>\n",
       "      <td>124.0</td>\n",
       "    </tr>\n",
       "    <tr>\n",
       "      <th>52910588</th>\n",
       "      <td>sxkf45</td>\n",
       "      <td>2023-04-30 20:00:00</td>\n",
       "      <td>41.152039</td>\n",
       "      <td>29.273071</td>\n",
       "      <td>153.0</td>\n",
       "      <td>64.0</td>\n",
       "      <td>94.0</td>\n",
       "      <td>109.0</td>\n",
       "    </tr>\n",
       "    <tr>\n",
       "      <th>52910589</th>\n",
       "      <td>sxkf45</td>\n",
       "      <td>2023-04-30 21:00:00</td>\n",
       "      <td>41.152039</td>\n",
       "      <td>29.273071</td>\n",
       "      <td>146.0</td>\n",
       "      <td>64.0</td>\n",
       "      <td>94.0</td>\n",
       "      <td>89.0</td>\n",
       "    </tr>\n",
       "    <tr>\n",
       "      <th>52910590</th>\n",
       "      <td>sxkf45</td>\n",
       "      <td>2023-04-30 22:00:00</td>\n",
       "      <td>41.152039</td>\n",
       "      <td>29.273071</td>\n",
       "      <td>146.0</td>\n",
       "      <td>64.0</td>\n",
       "      <td>90.0</td>\n",
       "      <td>96.0</td>\n",
       "    </tr>\n",
       "    <tr>\n",
       "      <th>52910591</th>\n",
       "      <td>sxkf45</td>\n",
       "      <td>2023-04-30 23:00:00</td>\n",
       "      <td>41.152039</td>\n",
       "      <td>29.273071</td>\n",
       "      <td>168.0</td>\n",
       "      <td>67.0</td>\n",
       "      <td>91.0</td>\n",
       "      <td>77.0</td>\n",
       "    </tr>\n",
       "  </tbody>\n",
       "</table>\n",
       "<p>52910592 rows × 8 columns</p>\n",
       "</div>"
      ],
      "text/plain": [
       "         GEOHASH           DATE_TIME   LATITUDE  LONGITUDE  MINIMUM_SPEED   \n",
       "0         sx7chk 2020-01-01 00:00:00  40.981750  27.965698          112.0  \\\n",
       "1         sx7chk 2020-01-01 01:00:00  40.981750  27.965698           98.0   \n",
       "2         sx7chk 2020-01-01 02:00:00  40.981750  27.965698          141.0   \n",
       "3         sx7chk 2020-01-01 03:00:00  40.981750  27.965698          100.0   \n",
       "4         sx7chk 2020-01-01 04:00:00  40.981750  27.965698           80.0   \n",
       "...          ...                 ...        ...        ...            ...   \n",
       "52910587  sxkf45 2023-04-30 19:00:00  41.152039  29.273071          171.0   \n",
       "52910588  sxkf45 2023-04-30 20:00:00  41.152039  29.273071          153.0   \n",
       "52910589  sxkf45 2023-04-30 21:00:00  41.152039  29.273071          146.0   \n",
       "52910590  sxkf45 2023-04-30 22:00:00  41.152039  29.273071          146.0   \n",
       "52910591  sxkf45 2023-04-30 23:00:00  41.152039  29.273071          168.0   \n",
       "\n",
       "          MAXIMUM_SPEED  AVERAGE_SPEED  NUMBER_OF_VEHICLES  \n",
       "0                  86.0           99.0                 2.0  \n",
       "1                  98.0           98.0                 1.0  \n",
       "2                  60.0           92.0                 3.0  \n",
       "3                  79.0           81.0                 2.0  \n",
       "4                  64.0           69.0                 2.0  \n",
       "...                 ...            ...                 ...  \n",
       "52910587           69.0          102.0               124.0  \n",
       "52910588           64.0           94.0               109.0  \n",
       "52910589           64.0           94.0                89.0  \n",
       "52910590           64.0           90.0                96.0  \n",
       "52910591           67.0           91.0                77.0  \n",
       "\n",
       "[52910592 rows x 8 columns]"
      ]
     },
     "execution_count": 17,
     "metadata": {},
     "output_type": "execute_result"
    }
   ],
   "source": [
    "df"
   ]
  },
  {
   "cell_type": "code",
   "execution_count": 18,
   "metadata": {},
   "outputs": [
    {
     "name": "stdout",
     "output_type": "stream",
     "text": [
      "Wall time: 3.54 s\n"
     ]
    },
    {
     "data": {
      "text/plain": [
       "GEOHASH                     0\n",
       "DATE_TIME                   0\n",
       "LATITUDE                    0\n",
       "LONGITUDE                   0\n",
       "MINIMUM_SPEED         1362213\n",
       "MAXIMUM_SPEED         1362213\n",
       "AVERAGE_SPEED         1362213\n",
       "NUMBER_OF_VEHICLES    1362213\n",
       "dtype: int64"
      ]
     },
     "execution_count": 18,
     "metadata": {},
     "output_type": "execute_result"
    }
   ],
   "source": [
    "%%time\n",
    "# there are about 1.3 million rows of missing values in total\n",
    "df.isnull().sum()"
   ]
  },
  {
   "cell_type": "code",
   "execution_count": 19,
   "metadata": {},
   "outputs": [
    {
     "data": {
      "text/plain": [
       "52910592"
      ]
     },
     "execution_count": 19,
     "metadata": {},
     "output_type": "execute_result"
    }
   ],
   "source": [
    "# The number of rows has increased from approximatly 51.5 million rows for the filtered dataset to 52.9 million rows for the transformed dataset\n",
    "len(df)"
   ]
  },
  {
   "cell_type": "code",
   "execution_count": 20,
   "metadata": {},
   "outputs": [
    {
     "data": {
      "text/html": [
       "<div>\n",
       "<style scoped>\n",
       "    .dataframe tbody tr th:only-of-type {\n",
       "        vertical-align: middle;\n",
       "    }\n",
       "\n",
       "    .dataframe tbody tr th {\n",
       "        vertical-align: top;\n",
       "    }\n",
       "\n",
       "    .dataframe thead th {\n",
       "        text-align: right;\n",
       "    }\n",
       "</style>\n",
       "<table border=\"1\" class=\"dataframe\">\n",
       "  <thead>\n",
       "    <tr style=\"text-align: right;\">\n",
       "      <th></th>\n",
       "      <th>GEOHASH</th>\n",
       "      <th>DATE_TIME</th>\n",
       "      <th>LATITUDE</th>\n",
       "      <th>LONGITUDE</th>\n",
       "      <th>MINIMUM_SPEED</th>\n",
       "      <th>MAXIMUM_SPEED</th>\n",
       "      <th>AVERAGE_SPEED</th>\n",
       "      <th>NUMBER_OF_VEHICLES</th>\n",
       "    </tr>\n",
       "  </thead>\n",
       "  <tbody>\n",
       "    <tr>\n",
       "      <th>39077376</th>\n",
       "      <td>sxk9w1</td>\n",
       "      <td>2020-01-01 00:00:00</td>\n",
       "      <td>41.053162</td>\n",
       "      <td>29.09729</td>\n",
       "      <td>46.0</td>\n",
       "      <td>7.0</td>\n",
       "      <td>24.0</td>\n",
       "      <td>7.0</td>\n",
       "    </tr>\n",
       "    <tr>\n",
       "      <th>39077377</th>\n",
       "      <td>sxk9w1</td>\n",
       "      <td>2020-01-01 01:00:00</td>\n",
       "      <td>41.053162</td>\n",
       "      <td>29.09729</td>\n",
       "      <td>25.0</td>\n",
       "      <td>17.0</td>\n",
       "      <td>21.0</td>\n",
       "      <td>2.0</td>\n",
       "    </tr>\n",
       "    <tr>\n",
       "      <th>39077378</th>\n",
       "      <td>sxk9w1</td>\n",
       "      <td>2020-01-01 02:00:00</td>\n",
       "      <td>41.053162</td>\n",
       "      <td>29.09729</td>\n",
       "      <td>44.0</td>\n",
       "      <td>15.0</td>\n",
       "      <td>29.0</td>\n",
       "      <td>5.0</td>\n",
       "    </tr>\n",
       "    <tr>\n",
       "      <th>39077379</th>\n",
       "      <td>sxk9w1</td>\n",
       "      <td>2020-01-01 03:00:00</td>\n",
       "      <td>41.053162</td>\n",
       "      <td>29.09729</td>\n",
       "      <td>NaN</td>\n",
       "      <td>NaN</td>\n",
       "      <td>NaN</td>\n",
       "      <td>NaN</td>\n",
       "    </tr>\n",
       "    <tr>\n",
       "      <th>39077380</th>\n",
       "      <td>sxk9w1</td>\n",
       "      <td>2020-01-01 04:00:00</td>\n",
       "      <td>41.053162</td>\n",
       "      <td>29.09729</td>\n",
       "      <td>61.0</td>\n",
       "      <td>9.0</td>\n",
       "      <td>33.0</td>\n",
       "      <td>5.0</td>\n",
       "    </tr>\n",
       "  </tbody>\n",
       "</table>\n",
       "</div>"
      ],
      "text/plain": [
       "         GEOHASH           DATE_TIME   LATITUDE  LONGITUDE  MINIMUM_SPEED   \n",
       "39077376  sxk9w1 2020-01-01 00:00:00  41.053162   29.09729           46.0  \\\n",
       "39077377  sxk9w1 2020-01-01 01:00:00  41.053162   29.09729           25.0   \n",
       "39077378  sxk9w1 2020-01-01 02:00:00  41.053162   29.09729           44.0   \n",
       "39077379  sxk9w1 2020-01-01 03:00:00  41.053162   29.09729            NaN   \n",
       "39077380  sxk9w1 2020-01-01 04:00:00  41.053162   29.09729           61.0   \n",
       "\n",
       "          MAXIMUM_SPEED  AVERAGE_SPEED  NUMBER_OF_VEHICLES  \n",
       "39077376            7.0           24.0                 7.0  \n",
       "39077377           17.0           21.0                 2.0  \n",
       "39077378           15.0           29.0                 5.0  \n",
       "39077379            NaN            NaN                 NaN  \n",
       "39077380            9.0           33.0                 5.0  "
      ]
     },
     "execution_count": 20,
     "metadata": {},
     "output_type": "execute_result"
    }
   ],
   "source": [
    "df.query(\"GEOHASH=='sxk9w1'\").head()"
   ]
  },
  {
   "attachments": {},
   "cell_type": "markdown",
   "metadata": {},
   "source": [
    "#### As seen from the above sample of the dataset for GEOHASH='sxk9w1' (same as shown earlier), now there is a row of 03:00 hours. The corresponding values for speed and num_of_vehicles is null. We will handle missing values in the next section."
   ]
  },
  {
   "cell_type": "code",
   "execution_count": 21,
   "metadata": {},
   "outputs": [
    {
     "data": {
      "text/plain": [
       "GEOHASH\n",
       "sx7chk    29184\n",
       "sxk9px    29184\n",
       "sxk9pw    29184\n",
       "sxk9pt    29184\n",
       "sxk9ps    29184\n",
       "          ...  \n",
       "sxk6ms    29184\n",
       "sxk6mr    29184\n",
       "sxk6mq    29184\n",
       "sxk6px    29184\n",
       "sxkf45    29184\n",
       "Length: 1813, dtype: int64"
      ]
     },
     "execution_count": 21,
     "metadata": {},
     "output_type": "execute_result"
    }
   ],
   "source": [
    "df.groupby(\"GEOHASH\").size().sort_values()"
   ]
  }
 ],
 "metadata": {
  "kernelspec": {
   "display_name": "base",
   "language": "python",
   "name": "python3"
  },
  "language_info": {
   "codemirror_mode": {
    "name": "ipython",
    "version": 3
   },
   "file_extension": ".py",
   "mimetype": "text/x-python",
   "name": "python",
   "nbconvert_exporter": "python",
   "pygments_lexer": "ipython3",
   "version": "3.9.13"
  },
  "orig_nbformat": 4
 },
 "nbformat": 4,
 "nbformat_minor": 2
}
