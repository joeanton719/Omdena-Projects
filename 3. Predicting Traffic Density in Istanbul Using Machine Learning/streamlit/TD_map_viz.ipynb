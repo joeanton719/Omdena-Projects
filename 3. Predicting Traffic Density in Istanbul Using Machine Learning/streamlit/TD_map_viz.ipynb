{
 "cells": [
  {
   "cell_type": "code",
   "execution_count": 1,
   "metadata": {},
   "outputs": [],
   "source": [
    "import pandas as pd\n",
    "# import folium\n",
    "# import folium.plugins as plugins\n",
    "from tqdm.auto import tqdm\n",
    "import numpy as np\n",
    "import ujson as json"
   ]
  },
  {
   "cell_type": "code",
   "execution_count": 2,
   "metadata": {},
   "outputs": [
    {
     "data": {
      "text/html": [
       "<div>\n",
       "<style scoped>\n",
       "    .dataframe tbody tr th:only-of-type {\n",
       "        vertical-align: middle;\n",
       "    }\n",
       "\n",
       "    .dataframe tbody tr th {\n",
       "        vertical-align: top;\n",
       "    }\n",
       "\n",
       "    .dataframe thead th {\n",
       "        text-align: right;\n",
       "    }\n",
       "</style>\n",
       "<table border=\"1\" class=\"dataframe\">\n",
       "  <thead>\n",
       "    <tr style=\"text-align: right;\">\n",
       "      <th></th>\n",
       "      <th>DATE_TIME</th>\n",
       "      <th>LATITUDE</th>\n",
       "      <th>LONGITUDE</th>\n",
       "      <th>NUMBER_OF_VEHICLES</th>\n",
       "    </tr>\n",
       "  </thead>\n",
       "  <tbody>\n",
       "    <tr>\n",
       "      <th>0</th>\n",
       "      <td>2020-01-01</td>\n",
       "      <td>40.789490</td>\n",
       "      <td>29.415894</td>\n",
       "      <td>0.151733</td>\n",
       "    </tr>\n",
       "    <tr>\n",
       "      <th>1</th>\n",
       "      <td>2020-01-01</td>\n",
       "      <td>40.811462</td>\n",
       "      <td>29.360962</td>\n",
       "      <td>0.034821</td>\n",
       "    </tr>\n",
       "    <tr>\n",
       "      <th>2</th>\n",
       "      <td>2020-01-01</td>\n",
       "      <td>40.992737</td>\n",
       "      <td>29.185180</td>\n",
       "      <td>0.277100</td>\n",
       "    </tr>\n",
       "    <tr>\n",
       "      <th>3</th>\n",
       "      <td>2020-01-01</td>\n",
       "      <td>41.108093</td>\n",
       "      <td>28.262330</td>\n",
       "      <td>0.025162</td>\n",
       "    </tr>\n",
       "    <tr>\n",
       "      <th>4</th>\n",
       "      <td>2020-01-01</td>\n",
       "      <td>40.992737</td>\n",
       "      <td>28.932495</td>\n",
       "      <td>0.057281</td>\n",
       "    </tr>\n",
       "  </tbody>\n",
       "</table>\n",
       "</div>"
      ],
      "text/plain": [
       "    DATE_TIME   LATITUDE  LONGITUDE  NUMBER_OF_VEHICLES\n",
       "0  2020-01-01  40.789490  29.415894            0.151733\n",
       "1  2020-01-01  40.811462  29.360962            0.034821\n",
       "2  2020-01-01  40.992737  29.185180            0.277100\n",
       "3  2020-01-01  41.108093  28.262330            0.025162\n",
       "4  2020-01-01  40.992737  28.932495            0.057281"
      ]
     },
     "execution_count": 2,
     "metadata": {},
     "output_type": "execute_result"
    }
   ],
   "source": [
    "gh_td = (\n",
    "    pd.read_csv(\"../datasets/18_Viz/gh_td.csv\")\n",
    "    .merge(pd.read_csv(\"../datasets/18_Viz/loc_hour_data_size.csv\"))\n",
    "    .drop(['GEOHASH', 'total_hourly_data'], axis=1)\n",
    "    .reindex(columns=['DATE_TIME', 'LATITUDE', 'LONGITUDE', 'NUMBER_OF_VEHICLES'])\n",
    "\n",
    "    # Scale NUMBER_OF_VEHICLES columns to values from 0 to 1\n",
    "    .assign(NUMBER_OF_VEHICLES=lambda x: (x['NUMBER_OF_VEHICLES']-x['NUMBER_OF_VEHICLES'].min())/\\\n",
    "                                         (x['NUMBER_OF_VEHICLES'].max()-x['NUMBER_OF_VEHICLES'].min()))\n",
    "    .assign(NUMBER_OF_VEHICLES=lambda x: x['NUMBER_OF_VEHICLES'].astype(np.float16))\n",
    "    .sort_values('DATE_TIME')\n",
    "    .reset_index(drop=True)\n",
    ")\n",
    "\n",
    "gh_td.head()"
   ]
  },
  {
   "cell_type": "code",
   "execution_count": 3,
   "metadata": {},
   "outputs": [],
   "source": [
    "gh_td.to_csv(\"gh_td.csv\", index=False)"
   ]
  },
  {
   "cell_type": "code",
   "execution_count": 4,
   "metadata": {},
   "outputs": [
    {
     "data": {
      "text/plain": [
       "(2204608, 4)"
      ]
     },
     "execution_count": 4,
     "metadata": {},
     "output_type": "execute_result"
    }
   ],
   "source": [
    "gh_td.shape"
   ]
  },
  {
   "cell_type": "code",
   "execution_count": 5,
   "metadata": {},
   "outputs": [
    {
     "data": {
      "application/vnd.jupyter.widget-view+json": {
       "model_id": "6ff5c4a9732440c29b8ee882f891b92c",
       "version_major": 2,
       "version_minor": 0
      },
      "text/plain": [
       "  0%|          | 0/1216 [00:00<?, ?it/s]"
      ]
     },
     "metadata": {},
     "output_type": "display_data"
    }
   ],
   "source": [
    "data = []\n",
    "for _, d in tqdm(gh_td.groupby('DATE_TIME')):\n",
    "   data.append([[row['LATITUDE'], row['LONGITUDE'], row['NUMBER_OF_VEHICLES']] for _, row in d.iterrows()])"
   ]
  },
  {
   "cell_type": "code",
   "execution_count": 6,
   "metadata": {},
   "outputs": [],
   "source": [
    "with open(\"td_data.json\", 'w') as file:\n",
    "    json.dump(data, file)"
   ]
  },
  {
   "cell_type": "code",
   "execution_count": 7,
   "metadata": {},
   "outputs": [
    {
     "data": {
      "text/plain": [
       "map"
      ]
     },
     "execution_count": 7,
     "metadata": {},
     "output_type": "execute_result"
    }
   ],
   "source": [
    "# map = folium.Map(location=[gh_td['LATITUDE'].mean(), gh_td['LONGITUDE'].mean()], zoom_start=10)\n",
    "\n",
    "\n",
    "# for index, row in gh_td.iterrows():\n",
    "#     folium.CircleMarker([row['LATITUDE'], row['LONGITUDE']], \n",
    "#                         radius=6,\n",
    "#                         color='black',  # Set the edge color to black\n",
    "#                         weight=1,  # Adjust the weight of the edge\n",
    "#                         fill=True,\n",
    "#                         fill_color='blue',  # Set the interior color\n",
    "#                         fill_opacity=0.6,\n",
    "#                         popup=row['Type']).add_to(map)\n",
    "\n",
    "\n",
    "map"
   ]
  }
 ],
 "metadata": {
  "kernelspec": {
   "display_name": "base",
   "language": "python",
   "name": "python3"
  },
  "language_info": {
   "codemirror_mode": {
    "name": "ipython",
    "version": 3
   },
   "file_extension": ".py",
   "mimetype": "text/x-python",
   "name": "python",
   "nbconvert_exporter": "python",
   "pygments_lexer": "ipython3",
   "version": "3.9.13"
  },
  "orig_nbformat": 4
 },
 "nbformat": 4,
 "nbformat_minor": 2
}
