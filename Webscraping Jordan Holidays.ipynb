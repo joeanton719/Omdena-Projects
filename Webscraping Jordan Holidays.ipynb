{
 "cells": [
  {
   "cell_type": "code",
   "execution_count": 1,
   "id": "12d3e5dd",
   "metadata": {},
   "outputs": [],
   "source": [
    "import requests_html\n",
    "import pandas as pd\n",
    "import re\n",
    "\n",
    "from bs4 import BeautifulSoup"
   ]
  },
  {
   "cell_type": "code",
   "execution_count": 2,
   "id": "ea2d217e",
   "metadata": {},
   "outputs": [
    {
     "name": "stdout",
     "output_type": "stream",
     "text": [
      "Getting data for 2014\n",
      "Getting data for 2015\n",
      "Getting data for 2016\n",
      "Getting data for 2017\n",
      "Getting data for 2018\n",
      "Getting data for 2019\n",
      "Getting data for 2020\n",
      "Getting data for 2021\n",
      "Getting data for 2022\n"
     ]
    }
   ],
   "source": [
    "holiday_list = []\n",
    "\n",
    "r = requests_html.HTMLSession()\n",
    "headers = {'Accept-Language': 'en-US,en;q=0.5'}\n",
    "\n",
    "for year in range(2014, 2023):\n",
    "    print(f'Getting data for {year}')\n",
    "    html = r.get(f'https://www.timeanddate.com/holidays/jordan/{year}', headers=headers)\n",
    "    \n",
    "    if html.status_code==200:\n",
    "        \n",
    "        soup = BeautifulSoup(html.text, \"lxml\")\n",
    "        \n",
    "        tbl_rows = soup.find(name=\"table\", attrs={\"id\" : \"holidays-table\"}).\\\n",
    "                    find_all(name=\"tr\", attrs={'id' : re.compile(r'^tr\\d')})\n",
    "        \n",
    "        for row in tbl_rows:\n",
    "            holiday_list.append({\n",
    "                'date' : row.find('th').text + f' {year}',\n",
    "                'holiday_name' : row.find('a').text,\n",
    "                'holiday_type' : row.find_all('td')[-1].text\n",
    "            })"
   ]
  },
  {
   "cell_type": "code",
   "execution_count": 3,
   "id": "ef3271d0",
   "metadata": {},
   "outputs": [],
   "source": [
    "holiday_df = pd.DataFrame(holiday_list)\n",
    "holiday_df['date'] = pd.to_datetime(holiday_df['date'])"
   ]
  },
  {
   "cell_type": "code",
   "execution_count": 4,
   "id": "9f149c38",
   "metadata": {},
   "outputs": [
    {
     "data": {
      "text/html": [
       "<div>\n",
       "<style scoped>\n",
       "    .dataframe tbody tr th:only-of-type {\n",
       "        vertical-align: middle;\n",
       "    }\n",
       "\n",
       "    .dataframe tbody tr th {\n",
       "        vertical-align: top;\n",
       "    }\n",
       "\n",
       "    .dataframe thead th {\n",
       "        text-align: right;\n",
       "    }\n",
       "</style>\n",
       "<table border=\"1\" class=\"dataframe\">\n",
       "  <thead>\n",
       "    <tr style=\"text-align: right;\">\n",
       "      <th></th>\n",
       "      <th>date</th>\n",
       "      <th>holiday_name</th>\n",
       "      <th>holiday_type</th>\n",
       "    </tr>\n",
       "  </thead>\n",
       "  <tbody>\n",
       "    <tr>\n",
       "      <th>0</th>\n",
       "      <td>2014-01-01</td>\n",
       "      <td>New Year's Day</td>\n",
       "      <td>National holiday</td>\n",
       "    </tr>\n",
       "    <tr>\n",
       "      <th>1</th>\n",
       "      <td>2014-01-13</td>\n",
       "      <td>Prophet's Birthday</td>\n",
       "      <td>National holiday</td>\n",
       "    </tr>\n",
       "    <tr>\n",
       "      <th>2</th>\n",
       "      <td>2014-03-20</td>\n",
       "      <td>March Equinox</td>\n",
       "      <td>Season</td>\n",
       "    </tr>\n",
       "    <tr>\n",
       "      <th>3</th>\n",
       "      <td>2014-04-13</td>\n",
       "      <td>Palm Sunday</td>\n",
       "      <td>Optional Holiday</td>\n",
       "    </tr>\n",
       "    <tr>\n",
       "      <th>4</th>\n",
       "      <td>2014-04-18</td>\n",
       "      <td>Orthodox Good Friday</td>\n",
       "      <td>Observance</td>\n",
       "    </tr>\n",
       "    <tr>\n",
       "      <th>...</th>\n",
       "      <td>...</td>\n",
       "      <td>...</td>\n",
       "      <td>...</td>\n",
       "    </tr>\n",
       "    <tr>\n",
       "      <th>321</th>\n",
       "      <td>2022-09-23</td>\n",
       "      <td>September Equinox</td>\n",
       "      <td>Season</td>\n",
       "    </tr>\n",
       "    <tr>\n",
       "      <th>322</th>\n",
       "      <td>2022-10-08</td>\n",
       "      <td>Prophet's Birthday</td>\n",
       "      <td>National holiday</td>\n",
       "    </tr>\n",
       "    <tr>\n",
       "      <th>323</th>\n",
       "      <td>2022-12-22</td>\n",
       "      <td>December Solstice</td>\n",
       "      <td>Season</td>\n",
       "    </tr>\n",
       "    <tr>\n",
       "      <th>324</th>\n",
       "      <td>2022-12-25</td>\n",
       "      <td>Christmas Day</td>\n",
       "      <td>National holiday</td>\n",
       "    </tr>\n",
       "    <tr>\n",
       "      <th>325</th>\n",
       "      <td>2022-12-26</td>\n",
       "      <td>Boxing Day</td>\n",
       "      <td>Optional Holiday</td>\n",
       "    </tr>\n",
       "  </tbody>\n",
       "</table>\n",
       "<p>326 rows × 3 columns</p>\n",
       "</div>"
      ],
      "text/plain": [
       "          date          holiday_name      holiday_type\n",
       "0   2014-01-01        New Year's Day  National holiday\n",
       "1   2014-01-13    Prophet's Birthday  National holiday\n",
       "2   2014-03-20         March Equinox            Season\n",
       "3   2014-04-13           Palm Sunday  Optional Holiday\n",
       "4   2014-04-18  Orthodox Good Friday        Observance\n",
       "..         ...                   ...               ...\n",
       "321 2022-09-23     September Equinox            Season\n",
       "322 2022-10-08    Prophet's Birthday  National holiday\n",
       "323 2022-12-22     December Solstice            Season\n",
       "324 2022-12-25         Christmas Day  National holiday\n",
       "325 2022-12-26            Boxing Day  Optional Holiday\n",
       "\n",
       "[326 rows x 3 columns]"
      ]
     },
     "execution_count": 4,
     "metadata": {},
     "output_type": "execute_result"
    }
   ],
   "source": [
    "holiday_df"
   ]
  },
  {
   "cell_type": "code",
   "execution_count": 5,
   "id": "3782218a",
   "metadata": {},
   "outputs": [],
   "source": [
    "holiday_df.to_csv('jordan_holidays_observance.csv', index=False)"
   ]
  },
  {
   "cell_type": "code",
   "execution_count": null,
   "id": "7cb2993f",
   "metadata": {},
   "outputs": [],
   "source": []
  },
  {
   "cell_type": "code",
   "execution_count": null,
   "id": "33008dbd",
   "metadata": {},
   "outputs": [],
   "source": []
  },
  {
   "cell_type": "code",
   "execution_count": null,
   "id": "0358ea66",
   "metadata": {},
   "outputs": [],
   "source": []
  },
  {
   "cell_type": "code",
   "execution_count": null,
   "id": "7c1fee2c",
   "metadata": {},
   "outputs": [],
   "source": []
  },
  {
   "cell_type": "code",
   "execution_count": null,
   "id": "5c4f80e0",
   "metadata": {},
   "outputs": [],
   "source": []
  },
  {
   "cell_type": "code",
   "execution_count": null,
   "id": "a4ac87b2",
   "metadata": {},
   "outputs": [],
   "source": []
  }
 ],
 "metadata": {
  "kernelspec": {
   "display_name": "Python 3 (ipykernel)",
   "language": "python",
   "name": "python3"
  },
  "language_info": {
   "codemirror_mode": {
    "name": "ipython",
    "version": 3
   },
   "file_extension": ".py",
   "mimetype": "text/x-python",
   "name": "python",
   "nbconvert_exporter": "python",
   "pygments_lexer": "ipython3",
   "version": "3.9.13"
  },
  "varInspector": {
   "cols": {
    "lenName": 16,
    "lenType": 16,
    "lenVar": 40
   },
   "kernels_config": {
    "python": {
     "delete_cmd_postfix": "",
     "delete_cmd_prefix": "del ",
     "library": "var_list.py",
     "varRefreshCmd": "print(var_dic_list())"
    },
    "r": {
     "delete_cmd_postfix": ") ",
     "delete_cmd_prefix": "rm(",
     "library": "var_list.r",
     "varRefreshCmd": "cat(var_dic_list()) "
    }
   },
   "types_to_exclude": [
    "module",
    "function",
    "builtin_function_or_method",
    "instance",
    "_Feature"
   ],
   "window_display": false
  }
 },
 "nbformat": 4,
 "nbformat_minor": 5
}
