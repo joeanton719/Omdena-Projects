{
 "cells": [
  {
   "cell_type": "code",
   "execution_count": 1,
   "id": "a15e6041",
   "metadata": {},
   "outputs": [],
   "source": [
    "import os\n",
    "import pandas as pd\n",
    "import numpy as np"
   ]
  },
  {
   "cell_type": "code",
   "execution_count": 2,
   "id": "4cf60430",
   "metadata": {},
   "outputs": [
    {
     "data": {
      "text/plain": [
       "['Datasets/2021_AD_translated.xlsx',\n",
       " 'Datasets/2021م.xlsx',\n",
       " 'Datasets/NEWcrash data2.csv',\n",
       " 'Datasets/NEWcrash data2.xls',\n",
       " 'Datasets/احداثيات 2021.xlsx']"
      ]
     },
     "execution_count": 2,
     "metadata": {},
     "output_type": "execute_result"
    }
   ],
   "source": [
    "[\"Datasets/\" + f for f in os.listdir(\"Datasets\") if not f.endswith(\".zip\")]"
   ]
  },
  {
   "cell_type": "code",
   "execution_count": 3,
   "id": "38cb9446",
   "metadata": {},
   "outputs": [],
   "source": [
    "df = pd.read_excel('Datasets/2021_AD_translated.xlsx')"
   ]
  },
  {
   "cell_type": "code",
   "execution_count": 5,
   "id": "a7766adb",
   "metadata": {},
   "outputs": [
    {
     "data": {
      "text/plain": [
       "Index(['Accident_ID', 'Type', 'Date', 'the speed', 'A. Minor injuries',\n",
       "       'A. Serious injuries', 'P. Death injuries', 'A. Moderate injuries',\n",
       "       'road lanes', 'road surface', 'The nationality of the vehicle',\n",
       "       'The category of license', 'road type', 'lighting', 'the weather',\n",
       "       'road properties', 'Driver error', 'conservative', 'Vehicle class',\n",
       "       'The date of the accident', 'Number of vehicles', 'The name',\n",
       "       'Driver age', 'driver's gender'],\n",
       "      dtype='object')"
      ]
     },
     "execution_count": 5,
     "metadata": {},
     "output_type": "execute_result"
    }
   ],
   "source": [
    "df.columns"
   ]
  },
  {
   "cell_type": "code",
   "execution_count": 7,
   "id": "493ae81d",
   "metadata": {},
   "outputs": [],
   "source": [
    "df.to_excel('Datasets/2021_AD_translated.xlsx', index=False)"
   ]
  },
  {
   "cell_type": "code",
   "execution_count": null,
   "id": "8454b2bf",
   "metadata": {},
   "outputs": [],
   "source": []
  },
  {
   "cell_type": "code",
   "execution_count": null,
   "id": "490dd3f9",
   "metadata": {},
   "outputs": [],
   "source": []
  },
  {
   "cell_type": "code",
   "execution_count": null,
   "id": "3ec69c42",
   "metadata": {},
   "outputs": [],
   "source": []
  },
  {
   "cell_type": "code",
   "execution_count": null,
   "id": "7b8c02ef",
   "metadata": {},
   "outputs": [],
   "source": []
  }
 ],
 "metadata": {
  "kernelspec": {
   "display_name": "Python 3 (ipykernel)",
   "language": "python",
   "name": "python3"
  },
  "language_info": {
   "codemirror_mode": {
    "name": "ipython",
    "version": 3
   },
   "file_extension": ".py",
   "mimetype": "text/x-python",
   "name": "python",
   "nbconvert_exporter": "python",
   "pygments_lexer": "ipython3",
   "version": "3.9.13"
  }
 },
 "nbformat": 4,
 "nbformat_minor": 5
}
